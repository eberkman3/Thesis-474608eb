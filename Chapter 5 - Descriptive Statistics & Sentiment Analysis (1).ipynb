{
 "cells": [
  {
   "cell_type": "code",
   "execution_count": 1,
   "id": "878dbbc5",
   "metadata": {},
   "outputs": [],
   "source": [
    "import pandas as pd\n",
    "import matplotlib.pyplot as plt\n",
    "import datetime\n",
    "import matplotlib \n",
    "from matplotlib import rcParams\n",
    "import spacy\n",
    "import seaborn as sns\n",
    "import statsmodels.api as sm\n",
    "import ruptures as rpt\n",
    "import numpy as np\n",
    "import nltk\n",
    "from vaderSentiment.vaderSentiment import SentimentIntensityAnalyzer\n",
    "from collections import Counter"
   ]
  },
  {
   "cell_type": "markdown",
   "id": "60e16635",
   "metadata": {},
   "source": [
    "# 1. Descriptive statistics"
   ]
  },
  {
   "cell_type": "code",
   "execution_count": 2,
   "id": "cc73e39e",
   "metadata": {},
   "outputs": [],
   "source": [
    "# Set the font family to Times New Roman\n",
    "rcParams['font.family'] = 'serif'\n",
    "rcParams['font.serif'] = ['Times New Roman']\n",
    "matplotlib.rcParams.update({'font.size': 16})"
   ]
  },
  {
   "cell_type": "code",
   "execution_count": 3,
   "id": "888a9aa2",
   "metadata": {},
   "outputs": [],
   "source": [
    "# Import data\n",
    "data = pd.read_csv('updated_dataset.csv')"
   ]
  },
  {
   "cell_type": "code",
   "execution_count": 4,
   "id": "49ec028e",
   "metadata": {},
   "outputs": [
    {
     "name": "stdout",
     "output_type": "stream",
     "text": [
      "<class 'pandas.core.frame.DataFrame'>\n",
      "RangeIndex: 12638 entries, 0 to 12637\n",
      "Data columns (total 25 columns):\n",
      " #   Column                  Non-Null Count  Dtype  \n",
      "---  ------                  --------------  -----  \n",
      " 0   airline                 12638 non-null  object \n",
      " 1   ratingValue             12638 non-null  int64  \n",
      " 2   author                  12638 non-null  object \n",
      " 3   country                 12638 non-null  object \n",
      " 4   reviewText              12638 non-null  object \n",
      " 5   verified                12638 non-null  bool   \n",
      " 6   type_of_traveller       12636 non-null  object \n",
      " 7   cabin_flown             12638 non-null  object \n",
      " 8   date_flown              12638 non-null  object \n",
      " 9   seat_comfort            11726 non-null  float64\n",
      " 10  cabin_staff_service     11665 non-null  float64\n",
      " 11  food_and_beverages      9070 non-null   float64\n",
      " 12  ground_service          12117 non-null  float64\n",
      " 13  value_for_money         12636 non-null  float64\n",
      " 14  inflight_entertainment  6523 non-null   float64\n",
      " 15  wifi_and_connectivity   3518 non-null   float64\n",
      " 16  is_english              12638 non-null  int64  \n",
      " 17  year_flown              12638 non-null  int64  \n",
      " 18  continent               12390 non-null  object \n",
      " 19  reviewText_char_count   12638 non-null  int64  \n",
      " 20  period                  12638 non-null  int64  \n",
      " 21  processed_review        12638 non-null  object \n",
      " 22  compound_score          12638 non-null  float64\n",
      " 23  overall_sentiment       12638 non-null  object \n",
      " 24  sentiment_scores        12638 non-null  object \n",
      "dtypes: bool(1), float64(8), int64(5), object(11)\n",
      "memory usage: 2.3+ MB\n"
     ]
    }
   ],
   "source": [
    "data.info()"
   ]
  },
  {
   "cell_type": "markdown",
   "id": "e81218a3",
   "metadata": {},
   "source": [
    "### Tables"
   ]
  },
  {
   "cell_type": "code",
   "execution_count": 5,
   "id": "1fb8cd98",
   "metadata": {},
   "outputs": [
    {
     "data": {
      "text/html": [
       "<div>\n",
       "<style scoped>\n",
       "    .dataframe tbody tr th:only-of-type {\n",
       "        vertical-align: middle;\n",
       "    }\n",
       "\n",
       "    .dataframe tbody tr th {\n",
       "        vertical-align: top;\n",
       "    }\n",
       "\n",
       "    .dataframe thead th {\n",
       "        text-align: right;\n",
       "    }\n",
       "</style>\n",
       "<table border=\"1\" class=\"dataframe\">\n",
       "  <thead>\n",
       "    <tr style=\"text-align: right;\">\n",
       "      <th></th>\n",
       "      <th>airline</th>\n",
       "      <th>ratingValue</th>\n",
       "      <th>author</th>\n",
       "      <th>country</th>\n",
       "      <th>reviewText</th>\n",
       "      <th>verified</th>\n",
       "      <th>type_of_traveller</th>\n",
       "      <th>cabin_flown</th>\n",
       "      <th>date_flown</th>\n",
       "      <th>seat_comfort</th>\n",
       "      <th>...</th>\n",
       "      <th>is_english</th>\n",
       "      <th>year_flown</th>\n",
       "      <th>continent</th>\n",
       "      <th>reviewText_char_count</th>\n",
       "      <th>period</th>\n",
       "      <th>processed_review</th>\n",
       "      <th>compound_score</th>\n",
       "      <th>overall_sentiment</th>\n",
       "      <th>sentiment_scores</th>\n",
       "      <th>before_during_covid</th>\n",
       "    </tr>\n",
       "  </thead>\n",
       "  <tbody>\n",
       "    <tr>\n",
       "      <th>0</th>\n",
       "      <td>TAP Portugal</td>\n",
       "      <td>3</td>\n",
       "      <td>9f61d6058d5edd3a0fa2313782b1e1cd41a5f2e1f79d71...</td>\n",
       "      <td>United States</td>\n",
       "      <td>Purchased the tickets December 2019. Airline n...</td>\n",
       "      <td>True</td>\n",
       "      <td>Couple Leisure</td>\n",
       "      <td>Economy Class</td>\n",
       "      <td>August 2019</td>\n",
       "      <td>NaN</td>\n",
       "      <td>...</td>\n",
       "      <td>1</td>\n",
       "      <td>2019</td>\n",
       "      <td>North America</td>\n",
       "      <td>659</td>\n",
       "      <td>0</td>\n",
       "      <td>Purchased the tickets December 2019. Airline n...</td>\n",
       "      <td>-0.8038</td>\n",
       "      <td>Negative</td>\n",
       "      <td>{'neg': 0.098, 'neu': 0.882, 'pos': 0.021, 'co...</td>\n",
       "      <td>0</td>\n",
       "    </tr>\n",
       "    <tr>\n",
       "      <th>1</th>\n",
       "      <td>TAP Portugal</td>\n",
       "      <td>2</td>\n",
       "      <td>4f7a4ff61bf17f3e171b519e935f3085201bb7ea57618f...</td>\n",
       "      <td>United States</td>\n",
       "      <td>When you fly with TAP, cross your fingers and ...</td>\n",
       "      <td>True</td>\n",
       "      <td>Solo Leisure</td>\n",
       "      <td>Economy Class</td>\n",
       "      <td>October 2019</td>\n",
       "      <td>2.0</td>\n",
       "      <td>...</td>\n",
       "      <td>1</td>\n",
       "      <td>2019</td>\n",
       "      <td>North America</td>\n",
       "      <td>284</td>\n",
       "      <td>0</td>\n",
       "      <td>When you fly with TAP, cross your fingers and ...</td>\n",
       "      <td>0.2942</td>\n",
       "      <td>Positive</td>\n",
       "      <td>{'neg': 0.055, 'neu': 0.851, 'pos': 0.094, 'co...</td>\n",
       "      <td>0</td>\n",
       "    </tr>\n",
       "    <tr>\n",
       "      <th>2</th>\n",
       "      <td>TAP Portugal</td>\n",
       "      <td>10</td>\n",
       "      <td>b892bffb2c1032d4c5c0b037e65aa5197a62fc8ae31314...</td>\n",
       "      <td>United Kingdom</td>\n",
       "      <td>London Heathrow to Faro via Lisbon. One of my ...</td>\n",
       "      <td>True</td>\n",
       "      <td>Family Leisure</td>\n",
       "      <td>Economy Class</td>\n",
       "      <td>July 2019</td>\n",
       "      <td>5.0</td>\n",
       "      <td>...</td>\n",
       "      <td>1</td>\n",
       "      <td>2019</td>\n",
       "      <td>Europe</td>\n",
       "      <td>520</td>\n",
       "      <td>0</td>\n",
       "      <td>London Heathrow to Faro via Lisbon. One of my ...</td>\n",
       "      <td>0.8896</td>\n",
       "      <td>Positive</td>\n",
       "      <td>{'neg': 0.067, 'neu': 0.786, 'pos': 0.148, 'co...</td>\n",
       "      <td>0</td>\n",
       "    </tr>\n",
       "    <tr>\n",
       "      <th>3</th>\n",
       "      <td>TAP Portugal</td>\n",
       "      <td>1</td>\n",
       "      <td>23304178961e9c4738f20e49226d9a8ce650f0b800dca9...</td>\n",
       "      <td>United Kingdom</td>\n",
       "      <td>Miami to London via Lisbon. Have called and em...</td>\n",
       "      <td>True</td>\n",
       "      <td>Solo Leisure</td>\n",
       "      <td>Economy Class</td>\n",
       "      <td>June 2019</td>\n",
       "      <td>1.0</td>\n",
       "      <td>...</td>\n",
       "      <td>1</td>\n",
       "      <td>2019</td>\n",
       "      <td>Europe</td>\n",
       "      <td>306</td>\n",
       "      <td>0</td>\n",
       "      <td>Miami to London via Lisbon. Have called and em...</td>\n",
       "      <td>-0.6381</td>\n",
       "      <td>Negative</td>\n",
       "      <td>{'neg': 0.132, 'neu': 0.827, 'pos': 0.04, 'com...</td>\n",
       "      <td>0</td>\n",
       "    </tr>\n",
       "    <tr>\n",
       "      <th>4</th>\n",
       "      <td>TAP Portugal</td>\n",
       "      <td>1</td>\n",
       "      <td>8d49e100abe5d4c9c6d2ba9c8727d31d254be39e7096c3...</td>\n",
       "      <td>Sweden</td>\n",
       "      <td>19 Dec 2019 me and my wife had a business clas...</td>\n",
       "      <td>True</td>\n",
       "      <td>Couple Leisure</td>\n",
       "      <td>Business Class</td>\n",
       "      <td>December 2019</td>\n",
       "      <td>2.0</td>\n",
       "      <td>...</td>\n",
       "      <td>1</td>\n",
       "      <td>2019</td>\n",
       "      <td>Europe</td>\n",
       "      <td>1718</td>\n",
       "      <td>0</td>\n",
       "      <td>19 Dec 2019 me and my wife had a business clas...</td>\n",
       "      <td>-0.8843</td>\n",
       "      <td>Negative</td>\n",
       "      <td>{'neg': 0.061, 'neu': 0.915, 'pos': 0.024, 'co...</td>\n",
       "      <td>0</td>\n",
       "    </tr>\n",
       "  </tbody>\n",
       "</table>\n",
       "<p>5 rows × 26 columns</p>\n",
       "</div>"
      ],
      "text/plain": [
       "        airline  ratingValue  \\\n",
       "0  TAP Portugal            3   \n",
       "1  TAP Portugal            2   \n",
       "2  TAP Portugal           10   \n",
       "3  TAP Portugal            1   \n",
       "4  TAP Portugal            1   \n",
       "\n",
       "                                              author         country  \\\n",
       "0  9f61d6058d5edd3a0fa2313782b1e1cd41a5f2e1f79d71...   United States   \n",
       "1  4f7a4ff61bf17f3e171b519e935f3085201bb7ea57618f...   United States   \n",
       "2  b892bffb2c1032d4c5c0b037e65aa5197a62fc8ae31314...  United Kingdom   \n",
       "3  23304178961e9c4738f20e49226d9a8ce650f0b800dca9...  United Kingdom   \n",
       "4  8d49e100abe5d4c9c6d2ba9c8727d31d254be39e7096c3...          Sweden   \n",
       "\n",
       "                                          reviewText  verified  \\\n",
       "0  Purchased the tickets December 2019. Airline n...      True   \n",
       "1  When you fly with TAP, cross your fingers and ...      True   \n",
       "2  London Heathrow to Faro via Lisbon. One of my ...      True   \n",
       "3  Miami to London via Lisbon. Have called and em...      True   \n",
       "4  19 Dec 2019 me and my wife had a business clas...      True   \n",
       "\n",
       "  type_of_traveller     cabin_flown     date_flown  seat_comfort  ...  \\\n",
       "0    Couple Leisure   Economy Class    August 2019           NaN  ...   \n",
       "1      Solo Leisure   Economy Class   October 2019           2.0  ...   \n",
       "2    Family Leisure   Economy Class      July 2019           5.0  ...   \n",
       "3      Solo Leisure   Economy Class      June 2019           1.0  ...   \n",
       "4    Couple Leisure  Business Class  December 2019           2.0  ...   \n",
       "\n",
       "   is_english  year_flown      continent  reviewText_char_count  period  \\\n",
       "0           1        2019  North America                    659       0   \n",
       "1           1        2019  North America                    284       0   \n",
       "2           1        2019         Europe                    520       0   \n",
       "3           1        2019         Europe                    306       0   \n",
       "4           1        2019         Europe                   1718       0   \n",
       "\n",
       "                                    processed_review  compound_score  \\\n",
       "0  Purchased the tickets December 2019. Airline n...         -0.8038   \n",
       "1  When you fly with TAP, cross your fingers and ...          0.2942   \n",
       "2  London Heathrow to Faro via Lisbon. One of my ...          0.8896   \n",
       "3  Miami to London via Lisbon. Have called and em...         -0.6381   \n",
       "4  19 Dec 2019 me and my wife had a business clas...         -0.8843   \n",
       "\n",
       "   overall_sentiment                                   sentiment_scores  \\\n",
       "0           Negative  {'neg': 0.098, 'neu': 0.882, 'pos': 0.021, 'co...   \n",
       "1           Positive  {'neg': 0.055, 'neu': 0.851, 'pos': 0.094, 'co...   \n",
       "2           Positive  {'neg': 0.067, 'neu': 0.786, 'pos': 0.148, 'co...   \n",
       "3           Negative  {'neg': 0.132, 'neu': 0.827, 'pos': 0.04, 'com...   \n",
       "4           Negative  {'neg': 0.061, 'neu': 0.915, 'pos': 0.024, 'co...   \n",
       "\n",
       "   before_during_covid  \n",
       "0                    0  \n",
       "1                    0  \n",
       "2                    0  \n",
       "3                    0  \n",
       "4                    0  \n",
       "\n",
       "[5 rows x 26 columns]"
      ]
     },
     "execution_count": 5,
     "metadata": {},
     "output_type": "execute_result"
    }
   ],
   "source": [
    "# Filter the data\n",
    "before_covid = data[(data['year_flown'] >= 2017) & (data['year_flown'] <= 2019)]\n",
    "during_after_covid = data[(data['year_flown'] >= 2020) & (data['year_flown'] <= 2022)]\n",
    "\n",
    "# Add a column indicating before or during COVID\n",
    "before_covid = before_covid.assign(before_during_covid=0)\n",
    "during_after_covid = during_after_covid.assign(before_during_covid=1)\n",
    "\n",
    "# Concatenate\n",
    "data = pd.concat([before_covid, during_after_covid])\n",
    "data = data.reset_index(drop=True)\n",
    "\n",
    "data.head(5)"
   ]
  },
  {
   "cell_type": "code",
   "execution_count": 6,
   "id": "62aeb399",
   "metadata": {
    "scrolled": true
   },
   "outputs": [
    {
     "name": "stdout",
     "output_type": "stream",
     "text": [
      "\\begin{tabular}{lrrrrrrrrrrrrrr}\n",
      "\\toprule\n",
      "{} &  ratingValue &  seat\\_comfort &  cabin\\_staff\\_service &  food\\_and\\_beverages &  ground\\_service &  value\\_for\\_money &  inflight\\_entertainment &  wifi\\_and\\_connectivity &  is\\_english &  year\\_flown &  reviewText\\_char\\_count &   period &  compound\\_score &  before\\_during\\_covid \\\\\n",
      "\\midrule\n",
      "count &      10794.0 &        9917.0 &               9861.0 &              7570.0 &         10287.0 &          10792.0 &                  5406.0 &                 3019.0 &     10794.0 &     10794.0 &                10794.0 &  10794.0 &         10794.0 &              10794.0 \\\\\n",
      "mean  &          3.8 &           2.6 &                  2.9 &                 2.6 &             2.4 &              2.4 &                     2.6 &                    2.1 &         1.0 &      2018.9 &                  829.7 &      0.3 &            -0.0 &                  0.3 \\\\\n",
      "std   &          3.3 &           1.4 &                  1.6 &                 1.5 &             1.5 &              1.5 &                     1.5 &                    1.5 &         0.0 &         1.7 &                  588.8 &      0.5 &             0.8 &                  0.5 \\\\\n",
      "min   &          1.0 &           1.0 &                  1.0 &                 1.0 &             1.0 &              1.0 &                     1.0 &                    1.0 &         1.0 &      2017.0 &                   89.0 &      0.0 &            -1.0 &                  0.0 \\\\\n",
      "25\\%   &          1.0 &           1.0 &                  1.0 &                 1.0 &             1.0 &              1.0 &                     1.0 &                    1.0 &         1.0 &      2018.0 &                  414.0 &      0.0 &            -0.8 &                  0.0 \\\\\n",
      "50\\%   &          2.0 &           3.0 &                  3.0 &                 2.0 &             2.0 &              2.0 &                     3.0 &                    1.0 &         1.0 &      2019.0 &                  664.5 &      0.0 &            -0.2 &                  0.0 \\\\\n",
      "75\\%   &          7.0 &           4.0 &                  4.0 &                 4.0 &             4.0 &              4.0 &                     4.0 &                    3.0 &         1.0 &      2020.0 &                 1055.0 &      1.0 &             0.9 &                  1.0 \\\\\n",
      "max   &         10.0 &           5.0 &                  5.0 &                 5.0 &             5.0 &              5.0 &                     5.0 &                    5.0 &         1.0 &      2022.0 &                 4613.0 &      1.0 &             1.0 &                  1.0 \\\\\n",
      "\\bottomrule\n",
      "\\end{tabular}\n",
      "\n"
     ]
    },
    {
     "name": "stderr",
     "output_type": "stream",
     "text": [
      "C:\\Users\\70608ebe\\AppData\\Local\\Temp\\ipykernel_9384\\3563767336.py:2: FutureWarning: In future versions `DataFrame.to_latex` is expected to utilise the base implementation of `Styler.to_latex` for formatting and rendering. The arguments signature may therefore change. It is recommended instead to use `DataFrame.style.to_latex` which also contains additional functionality.\n",
      "  latex_table = summary.to_latex()\n"
     ]
    }
   ],
   "source": [
    "summary = round(data.describe(),1)\n",
    "latex_table = summary.to_latex()\n",
    "print(latex_table)"
   ]
  },
  {
   "cell_type": "code",
   "execution_count": 7,
   "id": "4022d864",
   "metadata": {
    "scrolled": false
   },
   "outputs": [
    {
     "name": "stderr",
     "output_type": "stream",
     "text": [
      "C:\\Users\\70608ebe\\AppData\\Local\\Temp\\ipykernel_9384\\4073962372.py:2: FutureWarning: In future versions `DataFrame.to_latex` is expected to utilise the base implementation of `Styler.to_latex` for formatting and rendering. The arguments signature may therefore change. It is recommended instead to use `DataFrame.style.to_latex` which also contains additional functionality.\n",
      "  latex_table = average_values.to_latex()\n"
     ]
    },
    {
     "data": {
      "text/plain": [
       "'\\\\begin{tabular}{lrrrrrrrrrrrrrr}\\n\\\\toprule\\n{} &  ratingValue &  verified &  seat\\\\_comfort &  cabin\\\\_staff\\\\_service &  food\\\\_and\\\\_beverages &  ground\\\\_service &  value\\\\_for\\\\_money &  inflight\\\\_entertainment &  wifi\\\\_and\\\\_connectivity &  is\\\\_english &  year\\\\_flown &  reviewText\\\\_char\\\\_count &  period &  compound\\\\_score \\\\\\\\\\nbefore\\\\_during\\\\_covid &              &           &               &                      &                     &                 &                  &                         &                        &             &             &                        &         &                 \\\\\\\\\\n\\\\midrule\\n0                   &          4.2 &       1.0 &           2.7 &                  3.0 &                 2.7 &             2.5 &              2.6 &                     2.7 &                    2.1 &         1.0 &      2018.0 &                  827.3 &     0.0 &             0.0 \\\\\\\\\\n1                   &          3.0 &       1.0 &           2.5 &                  2.7 &                 2.4 &             2.1 &              2.0 &                     2.5 &                    2.0 &         1.0 &      2021.2 &                  835.7 &     1.0 &            -0.2 \\\\\\\\\\n\\\\bottomrule\\n\\\\end{tabular}\\n'"
      ]
     },
     "execution_count": 7,
     "metadata": {},
     "output_type": "execute_result"
    }
   ],
   "source": [
    "average_values = round(data.groupby('before_during_covid').mean(),1)\n",
    "latex_table = average_values.to_latex()\n",
    "latex_table"
   ]
  },
  {
   "cell_type": "code",
   "execution_count": 8,
   "id": "4db30075",
   "metadata": {},
   "outputs": [
    {
     "data": {
      "text/html": [
       "<div>\n",
       "<style scoped>\n",
       "    .dataframe tbody tr th:only-of-type {\n",
       "        vertical-align: middle;\n",
       "    }\n",
       "\n",
       "    .dataframe tbody tr th {\n",
       "        vertical-align: top;\n",
       "    }\n",
       "\n",
       "    .dataframe thead th {\n",
       "        text-align: right;\n",
       "    }\n",
       "</style>\n",
       "<table border=\"1\" class=\"dataframe\">\n",
       "  <thead>\n",
       "    <tr style=\"text-align: right;\">\n",
       "      <th></th>\n",
       "      <th>ratingValue</th>\n",
       "      <th>verified</th>\n",
       "      <th>seat_comfort</th>\n",
       "      <th>cabin_staff_service</th>\n",
       "      <th>food_and_beverages</th>\n",
       "      <th>ground_service</th>\n",
       "      <th>value_for_money</th>\n",
       "      <th>inflight_entertainment</th>\n",
       "      <th>wifi_and_connectivity</th>\n",
       "      <th>is_english</th>\n",
       "      <th>year_flown</th>\n",
       "      <th>reviewText_char_count</th>\n",
       "      <th>period</th>\n",
       "      <th>compound_score</th>\n",
       "    </tr>\n",
       "    <tr>\n",
       "      <th>before_during_covid</th>\n",
       "      <th></th>\n",
       "      <th></th>\n",
       "      <th></th>\n",
       "      <th></th>\n",
       "      <th></th>\n",
       "      <th></th>\n",
       "      <th></th>\n",
       "      <th></th>\n",
       "      <th></th>\n",
       "      <th></th>\n",
       "      <th></th>\n",
       "      <th></th>\n",
       "      <th></th>\n",
       "      <th></th>\n",
       "    </tr>\n",
       "  </thead>\n",
       "  <tbody>\n",
       "    <tr>\n",
       "      <th>0</th>\n",
       "      <td>4.2</td>\n",
       "      <td>1.0</td>\n",
       "      <td>2.7</td>\n",
       "      <td>3.0</td>\n",
       "      <td>2.7</td>\n",
       "      <td>2.5</td>\n",
       "      <td>2.6</td>\n",
       "      <td>2.7</td>\n",
       "      <td>2.1</td>\n",
       "      <td>1.0</td>\n",
       "      <td>2018.0</td>\n",
       "      <td>827.3</td>\n",
       "      <td>0.0</td>\n",
       "      <td>0.0</td>\n",
       "    </tr>\n",
       "    <tr>\n",
       "      <th>1</th>\n",
       "      <td>3.0</td>\n",
       "      <td>1.0</td>\n",
       "      <td>2.5</td>\n",
       "      <td>2.7</td>\n",
       "      <td>2.4</td>\n",
       "      <td>2.1</td>\n",
       "      <td>2.0</td>\n",
       "      <td>2.5</td>\n",
       "      <td>2.0</td>\n",
       "      <td>1.0</td>\n",
       "      <td>2021.2</td>\n",
       "      <td>835.7</td>\n",
       "      <td>1.0</td>\n",
       "      <td>-0.2</td>\n",
       "    </tr>\n",
       "  </tbody>\n",
       "</table>\n",
       "</div>"
      ],
      "text/plain": [
       "                     ratingValue  verified  seat_comfort  cabin_staff_service  \\\n",
       "before_during_covid                                                             \n",
       "0                            4.2       1.0           2.7                  3.0   \n",
       "1                            3.0       1.0           2.5                  2.7   \n",
       "\n",
       "                     food_and_beverages  ground_service  value_for_money  \\\n",
       "before_during_covid                                                        \n",
       "0                                   2.7             2.5              2.6   \n",
       "1                                   2.4             2.1              2.0   \n",
       "\n",
       "                     inflight_entertainment  wifi_and_connectivity  \\\n",
       "before_during_covid                                                  \n",
       "0                                       2.7                    2.1   \n",
       "1                                       2.5                    2.0   \n",
       "\n",
       "                     is_english  year_flown  reviewText_char_count  period  \\\n",
       "before_during_covid                                                          \n",
       "0                           1.0      2018.0                  827.3     0.0   \n",
       "1                           1.0      2021.2                  835.7     1.0   \n",
       "\n",
       "                     compound_score  \n",
       "before_during_covid                  \n",
       "0                               0.0  \n",
       "1                              -0.2  "
      ]
     },
     "execution_count": 8,
     "metadata": {},
     "output_type": "execute_result"
    }
   ],
   "source": [
    "average_values = round(data.groupby('before_during_covid').mean(),1)\n",
    "average_values"
   ]
  },
  {
   "cell_type": "code",
   "execution_count": 9,
   "id": "442cf7b8",
   "metadata": {},
   "outputs": [
    {
     "data": {
      "text/html": [
       "<div>\n",
       "<style scoped>\n",
       "    .dataframe tbody tr th:only-of-type {\n",
       "        vertical-align: middle;\n",
       "    }\n",
       "\n",
       "    .dataframe tbody tr th {\n",
       "        vertical-align: top;\n",
       "    }\n",
       "\n",
       "    .dataframe thead th {\n",
       "        text-align: right;\n",
       "    }\n",
       "</style>\n",
       "<table border=\"1\" class=\"dataframe\">\n",
       "  <thead>\n",
       "    <tr style=\"text-align: right;\">\n",
       "      <th></th>\n",
       "      <th>ratingValue</th>\n",
       "      <th>verified</th>\n",
       "      <th>seat_comfort</th>\n",
       "      <th>cabin_staff_service</th>\n",
       "      <th>food_and_beverages</th>\n",
       "      <th>ground_service</th>\n",
       "      <th>value_for_money</th>\n",
       "      <th>inflight_entertainment</th>\n",
       "      <th>wifi_and_connectivity</th>\n",
       "      <th>is_english</th>\n",
       "      <th>year_flown</th>\n",
       "      <th>reviewText_char_count</th>\n",
       "      <th>period</th>\n",
       "      <th>compound_score</th>\n",
       "    </tr>\n",
       "    <tr>\n",
       "      <th>before_during_covid</th>\n",
       "      <th></th>\n",
       "      <th></th>\n",
       "      <th></th>\n",
       "      <th></th>\n",
       "      <th></th>\n",
       "      <th></th>\n",
       "      <th></th>\n",
       "      <th></th>\n",
       "      <th></th>\n",
       "      <th></th>\n",
       "      <th></th>\n",
       "      <th></th>\n",
       "      <th></th>\n",
       "      <th></th>\n",
       "    </tr>\n",
       "  </thead>\n",
       "  <tbody>\n",
       "    <tr>\n",
       "      <th>0</th>\n",
       "      <td>3.4</td>\n",
       "      <td>0.0</td>\n",
       "      <td>1.4</td>\n",
       "      <td>1.6</td>\n",
       "      <td>1.5</td>\n",
       "      <td>1.6</td>\n",
       "      <td>1.6</td>\n",
       "      <td>1.5</td>\n",
       "      <td>1.5</td>\n",
       "      <td>0.0</td>\n",
       "      <td>0.8</td>\n",
       "      <td>579.6</td>\n",
       "      <td>0.0</td>\n",
       "      <td>0.8</td>\n",
       "    </tr>\n",
       "    <tr>\n",
       "      <th>1</th>\n",
       "      <td>3.0</td>\n",
       "      <td>0.0</td>\n",
       "      <td>1.4</td>\n",
       "      <td>1.6</td>\n",
       "      <td>1.5</td>\n",
       "      <td>1.5</td>\n",
       "      <td>1.4</td>\n",
       "      <td>1.4</td>\n",
       "      <td>1.4</td>\n",
       "      <td>0.0</td>\n",
       "      <td>0.8</td>\n",
       "      <td>610.4</td>\n",
       "      <td>0.0</td>\n",
       "      <td>0.7</td>\n",
       "    </tr>\n",
       "  </tbody>\n",
       "</table>\n",
       "</div>"
      ],
      "text/plain": [
       "                     ratingValue  verified  seat_comfort  cabin_staff_service  \\\n",
       "before_during_covid                                                             \n",
       "0                            3.4       0.0           1.4                  1.6   \n",
       "1                            3.0       0.0           1.4                  1.6   \n",
       "\n",
       "                     food_and_beverages  ground_service  value_for_money  \\\n",
       "before_during_covid                                                        \n",
       "0                                   1.5             1.6              1.6   \n",
       "1                                   1.5             1.5              1.4   \n",
       "\n",
       "                     inflight_entertainment  wifi_and_connectivity  \\\n",
       "before_during_covid                                                  \n",
       "0                                       1.5                    1.5   \n",
       "1                                       1.4                    1.4   \n",
       "\n",
       "                     is_english  year_flown  reviewText_char_count  period  \\\n",
       "before_during_covid                                                          \n",
       "0                           0.0         0.8                  579.6     0.0   \n",
       "1                           0.0         0.8                  610.4     0.0   \n",
       "\n",
       "                     compound_score  \n",
       "before_during_covid                  \n",
       "0                               0.8  \n",
       "1                               0.7  "
      ]
     },
     "execution_count": 9,
     "metadata": {},
     "output_type": "execute_result"
    }
   ],
   "source": [
    "std_values = round(data.groupby('before_during_covid').std(),1)\n",
    "std_values"
   ]
  },
  {
   "cell_type": "code",
   "execution_count": 10,
   "id": "4c05ee1b",
   "metadata": {},
   "outputs": [
    {
     "data": {
      "text/html": [
       "<div>\n",
       "<style scoped>\n",
       "    .dataframe tbody tr th:only-of-type {\n",
       "        vertical-align: middle;\n",
       "    }\n",
       "\n",
       "    .dataframe tbody tr th {\n",
       "        vertical-align: top;\n",
       "    }\n",
       "\n",
       "    .dataframe thead th {\n",
       "        text-align: right;\n",
       "    }\n",
       "</style>\n",
       "<table border=\"1\" class=\"dataframe\">\n",
       "  <thead>\n",
       "    <tr style=\"text-align: right;\">\n",
       "      <th></th>\n",
       "      <th>count</th>\n",
       "      <th>mean</th>\n",
       "      <th>std</th>\n",
       "      <th>min</th>\n",
       "      <th>25%</th>\n",
       "      <th>50%</th>\n",
       "      <th>75%</th>\n",
       "      <th>max</th>\n",
       "    </tr>\n",
       "    <tr>\n",
       "      <th>before_during_covid</th>\n",
       "      <th></th>\n",
       "      <th></th>\n",
       "      <th></th>\n",
       "      <th></th>\n",
       "      <th></th>\n",
       "      <th></th>\n",
       "      <th></th>\n",
       "      <th></th>\n",
       "    </tr>\n",
       "  </thead>\n",
       "  <tbody>\n",
       "    <tr>\n",
       "      <th>0</th>\n",
       "      <td>7649.0</td>\n",
       "      <td>827.3</td>\n",
       "      <td>579.6</td>\n",
       "      <td>112.0</td>\n",
       "      <td>419.0</td>\n",
       "      <td>664.0</td>\n",
       "      <td>1050.0</td>\n",
       "      <td>4613.0</td>\n",
       "    </tr>\n",
       "    <tr>\n",
       "      <th>1</th>\n",
       "      <td>3145.0</td>\n",
       "      <td>835.7</td>\n",
       "      <td>610.4</td>\n",
       "      <td>89.0</td>\n",
       "      <td>403.0</td>\n",
       "      <td>665.0</td>\n",
       "      <td>1063.0</td>\n",
       "      <td>3772.0</td>\n",
       "    </tr>\n",
       "  </tbody>\n",
       "</table>\n",
       "</div>"
      ],
      "text/plain": [
       "                      count   mean    std    min    25%    50%     75%     max\n",
       "before_during_covid                                                           \n",
       "0                    7649.0  827.3  579.6  112.0  419.0  664.0  1050.0  4613.0\n",
       "1                    3145.0  835.7  610.4   89.0  403.0  665.0  1063.0  3772.0"
      ]
     },
     "execution_count": 10,
     "metadata": {},
     "output_type": "execute_result"
    }
   ],
   "source": [
    "describe = round(data.groupby('before_during_covid')['reviewText_char_count'].describe(),1)\n",
    "describe"
   ]
  },
  {
   "cell_type": "code",
   "execution_count": 14,
   "id": "f146187e",
   "metadata": {
    "scrolled": false
   },
   "outputs": [
    {
     "name": "stderr",
     "output_type": "stream",
     "text": [
      "C:\\Users\\70608ebe\\AppData\\Local\\Temp\\ipykernel_9384\\1202800624.py:2: FutureWarning: In future versions `DataFrame.to_latex` is expected to utilise the base implementation of `Styler.to_latex` for formatting and rendering. The arguments signature may therefore change. It is recommended instead to use `DataFrame.style.to_latex` which also contains additional functionality.\n",
      "  latex_table = average_values.to_latex()\n"
     ]
    },
    {
     "data": {
      "text/plain": [
       "'\\\\begin{tabular}{lr}\\n\\\\toprule\\n{} &  before\\\\_during\\\\_covid \\\\\\\\\\ncabin\\\\_flown     &                      \\\\\\\\\\n\\\\midrule\\nBusiness Class  &                  0.3 \\\\\\\\\\nEconomy Class   &                  0.3 \\\\\\\\\\nFirst Class     &                  0.1 \\\\\\\\\\nPremium Economy &                  0.2 \\\\\\\\\\n\\\\bottomrule\\n\\\\end{tabular}\\n'"
      ]
     },
     "execution_count": 14,
     "metadata": {},
     "output_type": "execute_result"
    }
   ],
   "source": [
    "average_values = round(data.groupby('cabin_flown').mean(),1)\n",
    "latex_table = average_values.to_latex()\n",
    "latex_table"
   ]
  },
  {
   "cell_type": "code",
   "execution_count": 19,
   "id": "00259c3f",
   "metadata": {
    "scrolled": true
   },
   "outputs": [
    {
     "name": "stderr",
     "output_type": "stream",
     "text": [
      "C:\\Users\\70608ebe\\AppData\\Local\\Temp\\ipykernel_9384\\2586299956.py:2: FutureWarning: In future versions `DataFrame.to_latex` is expected to utilise the base implementation of `Styler.to_latex` for formatting and rendering. The arguments signature may therefore change. It is recommended instead to use `DataFrame.style.to_latex` which also contains additional functionality.\n",
      "  latex_table = average_values.to_latex()\n"
     ]
    },
    {
     "data": {
      "text/html": [
       "<div>\n",
       "<style scoped>\n",
       "    .dataframe tbody tr th:only-of-type {\n",
       "        vertical-align: middle;\n",
       "    }\n",
       "\n",
       "    .dataframe tbody tr th {\n",
       "        vertical-align: top;\n",
       "    }\n",
       "\n",
       "    .dataframe thead th {\n",
       "        text-align: right;\n",
       "    }\n",
       "</style>\n",
       "<table border=\"1\" class=\"dataframe\">\n",
       "  <thead>\n",
       "    <tr style=\"text-align: right;\">\n",
       "      <th></th>\n",
       "      <th></th>\n",
       "      <th>ratingValue</th>\n",
       "      <th>verified</th>\n",
       "      <th>seat_comfort</th>\n",
       "      <th>cabin_staff_service</th>\n",
       "      <th>food_and_beverages</th>\n",
       "      <th>ground_service</th>\n",
       "      <th>value_for_money</th>\n",
       "      <th>inflight_entertainment</th>\n",
       "      <th>wifi_and_connectivity</th>\n",
       "      <th>is_english</th>\n",
       "      <th>year_flown</th>\n",
       "      <th>reviewText_char_count</th>\n",
       "      <th>period</th>\n",
       "      <th>compound_score</th>\n",
       "    </tr>\n",
       "    <tr>\n",
       "      <th>before_during_covid</th>\n",
       "      <th>cabin_flown</th>\n",
       "      <th></th>\n",
       "      <th></th>\n",
       "      <th></th>\n",
       "      <th></th>\n",
       "      <th></th>\n",
       "      <th></th>\n",
       "      <th></th>\n",
       "      <th></th>\n",
       "      <th></th>\n",
       "      <th></th>\n",
       "      <th></th>\n",
       "      <th></th>\n",
       "      <th></th>\n",
       "      <th></th>\n",
       "    </tr>\n",
       "  </thead>\n",
       "  <tbody>\n",
       "    <tr>\n",
       "      <th rowspan=\"4\" valign=\"top\">0</th>\n",
       "      <th>Business Class</th>\n",
       "      <td>5.5</td>\n",
       "      <td>1.0</td>\n",
       "      <td>3.1</td>\n",
       "      <td>3.6</td>\n",
       "      <td>3.2</td>\n",
       "      <td>3.1</td>\n",
       "      <td>3.0</td>\n",
       "      <td>3.1</td>\n",
       "      <td>2.7</td>\n",
       "      <td>1.0</td>\n",
       "      <td>2017.9</td>\n",
       "      <td>919.2</td>\n",
       "      <td>0.0</td>\n",
       "      <td>0.3</td>\n",
       "    </tr>\n",
       "    <tr>\n",
       "      <th>Economy Class</th>\n",
       "      <td>3.8</td>\n",
       "      <td>1.0</td>\n",
       "      <td>2.6</td>\n",
       "      <td>2.9</td>\n",
       "      <td>2.6</td>\n",
       "      <td>2.3</td>\n",
       "      <td>2.5</td>\n",
       "      <td>2.5</td>\n",
       "      <td>1.9</td>\n",
       "      <td>1.0</td>\n",
       "      <td>2018.0</td>\n",
       "      <td>794.7</td>\n",
       "      <td>0.0</td>\n",
       "      <td>-0.0</td>\n",
       "    </tr>\n",
       "    <tr>\n",
       "      <th>First Class</th>\n",
       "      <td>6.4</td>\n",
       "      <td>1.0</td>\n",
       "      <td>3.7</td>\n",
       "      <td>4.0</td>\n",
       "      <td>3.4</td>\n",
       "      <td>3.6</td>\n",
       "      <td>3.3</td>\n",
       "      <td>3.2</td>\n",
       "      <td>2.5</td>\n",
       "      <td>1.0</td>\n",
       "      <td>2017.8</td>\n",
       "      <td>1031.9</td>\n",
       "      <td>0.0</td>\n",
       "      <td>0.5</td>\n",
       "    </tr>\n",
       "    <tr>\n",
       "      <th>Premium Economy</th>\n",
       "      <td>4.8</td>\n",
       "      <td>1.0</td>\n",
       "      <td>3.0</td>\n",
       "      <td>3.2</td>\n",
       "      <td>2.8</td>\n",
       "      <td>2.9</td>\n",
       "      <td>2.7</td>\n",
       "      <td>3.0</td>\n",
       "      <td>2.5</td>\n",
       "      <td>1.0</td>\n",
       "      <td>2017.8</td>\n",
       "      <td>1015.5</td>\n",
       "      <td>0.0</td>\n",
       "      <td>0.2</td>\n",
       "    </tr>\n",
       "    <tr>\n",
       "      <th rowspan=\"4\" valign=\"top\">1</th>\n",
       "      <th>Business Class</th>\n",
       "      <td>4.3</td>\n",
       "      <td>1.0</td>\n",
       "      <td>2.9</td>\n",
       "      <td>3.2</td>\n",
       "      <td>2.9</td>\n",
       "      <td>2.6</td>\n",
       "      <td>2.5</td>\n",
       "      <td>3.0</td>\n",
       "      <td>2.7</td>\n",
       "      <td>1.0</td>\n",
       "      <td>2021.3</td>\n",
       "      <td>855.6</td>\n",
       "      <td>1.0</td>\n",
       "      <td>0.0</td>\n",
       "    </tr>\n",
       "    <tr>\n",
       "      <th>Economy Class</th>\n",
       "      <td>2.7</td>\n",
       "      <td>1.0</td>\n",
       "      <td>2.3</td>\n",
       "      <td>2.5</td>\n",
       "      <td>2.2</td>\n",
       "      <td>1.9</td>\n",
       "      <td>1.9</td>\n",
       "      <td>2.3</td>\n",
       "      <td>1.7</td>\n",
       "      <td>1.0</td>\n",
       "      <td>2021.2</td>\n",
       "      <td>825.1</td>\n",
       "      <td>1.0</td>\n",
       "      <td>-0.3</td>\n",
       "    </tr>\n",
       "    <tr>\n",
       "      <th>First Class</th>\n",
       "      <td>6.5</td>\n",
       "      <td>1.0</td>\n",
       "      <td>3.6</td>\n",
       "      <td>4.0</td>\n",
       "      <td>3.4</td>\n",
       "      <td>3.4</td>\n",
       "      <td>3.0</td>\n",
       "      <td>3.3</td>\n",
       "      <td>3.7</td>\n",
       "      <td>1.0</td>\n",
       "      <td>2021.1</td>\n",
       "      <td>632.4</td>\n",
       "      <td>1.0</td>\n",
       "      <td>0.5</td>\n",
       "    </tr>\n",
       "    <tr>\n",
       "      <th>Premium Economy</th>\n",
       "      <td>4.0</td>\n",
       "      <td>1.0</td>\n",
       "      <td>2.8</td>\n",
       "      <td>2.9</td>\n",
       "      <td>2.7</td>\n",
       "      <td>2.6</td>\n",
       "      <td>2.5</td>\n",
       "      <td>2.8</td>\n",
       "      <td>2.0</td>\n",
       "      <td>1.0</td>\n",
       "      <td>2021.2</td>\n",
       "      <td>1016.6</td>\n",
       "      <td>1.0</td>\n",
       "      <td>0.0</td>\n",
       "    </tr>\n",
       "  </tbody>\n",
       "</table>\n",
       "</div>"
      ],
      "text/plain": [
       "                                     ratingValue  verified  seat_comfort  \\\n",
       "before_during_covid cabin_flown                                            \n",
       "0                   Business Class           5.5       1.0           3.1   \n",
       "                    Economy Class            3.8       1.0           2.6   \n",
       "                    First Class              6.4       1.0           3.7   \n",
       "                    Premium Economy          4.8       1.0           3.0   \n",
       "1                   Business Class           4.3       1.0           2.9   \n",
       "                    Economy Class            2.7       1.0           2.3   \n",
       "                    First Class              6.5       1.0           3.6   \n",
       "                    Premium Economy          4.0       1.0           2.8   \n",
       "\n",
       "                                     cabin_staff_service  food_and_beverages  \\\n",
       "before_during_covid cabin_flown                                                \n",
       "0                   Business Class                   3.6                 3.2   \n",
       "                    Economy Class                    2.9                 2.6   \n",
       "                    First Class                      4.0                 3.4   \n",
       "                    Premium Economy                  3.2                 2.8   \n",
       "1                   Business Class                   3.2                 2.9   \n",
       "                    Economy Class                    2.5                 2.2   \n",
       "                    First Class                      4.0                 3.4   \n",
       "                    Premium Economy                  2.9                 2.7   \n",
       "\n",
       "                                     ground_service  value_for_money  \\\n",
       "before_during_covid cabin_flown                                        \n",
       "0                   Business Class              3.1              3.0   \n",
       "                    Economy Class               2.3              2.5   \n",
       "                    First Class                 3.6              3.3   \n",
       "                    Premium Economy             2.9              2.7   \n",
       "1                   Business Class              2.6              2.5   \n",
       "                    Economy Class               1.9              1.9   \n",
       "                    First Class                 3.4              3.0   \n",
       "                    Premium Economy             2.6              2.5   \n",
       "\n",
       "                                     inflight_entertainment  \\\n",
       "before_during_covid cabin_flown                               \n",
       "0                   Business Class                      3.1   \n",
       "                    Economy Class                       2.5   \n",
       "                    First Class                         3.2   \n",
       "                    Premium Economy                     3.0   \n",
       "1                   Business Class                      3.0   \n",
       "                    Economy Class                       2.3   \n",
       "                    First Class                         3.3   \n",
       "                    Premium Economy                     2.8   \n",
       "\n",
       "                                     wifi_and_connectivity  is_english  \\\n",
       "before_during_covid cabin_flown                                          \n",
       "0                   Business Class                     2.7         1.0   \n",
       "                    Economy Class                      1.9         1.0   \n",
       "                    First Class                        2.5         1.0   \n",
       "                    Premium Economy                    2.5         1.0   \n",
       "1                   Business Class                     2.7         1.0   \n",
       "                    Economy Class                      1.7         1.0   \n",
       "                    First Class                        3.7         1.0   \n",
       "                    Premium Economy                    2.0         1.0   \n",
       "\n",
       "                                     year_flown  reviewText_char_count  \\\n",
       "before_during_covid cabin_flown                                          \n",
       "0                   Business Class       2017.9                  919.2   \n",
       "                    Economy Class        2018.0                  794.7   \n",
       "                    First Class          2017.8                 1031.9   \n",
       "                    Premium Economy      2017.8                 1015.5   \n",
       "1                   Business Class       2021.3                  855.6   \n",
       "                    Economy Class        2021.2                  825.1   \n",
       "                    First Class          2021.1                  632.4   \n",
       "                    Premium Economy      2021.2                 1016.6   \n",
       "\n",
       "                                     period  compound_score  \n",
       "before_during_covid cabin_flown                              \n",
       "0                   Business Class      0.0             0.3  \n",
       "                    Economy Class       0.0            -0.0  \n",
       "                    First Class         0.0             0.5  \n",
       "                    Premium Economy     0.0             0.2  \n",
       "1                   Business Class      1.0             0.0  \n",
       "                    Economy Class       1.0            -0.3  \n",
       "                    First Class         1.0             0.5  \n",
       "                    Premium Economy     1.0             0.0  "
      ]
     },
     "execution_count": 19,
     "metadata": {},
     "output_type": "execute_result"
    }
   ],
   "source": [
    "average_values = round(data.groupby(['before_during_covid', 'cabin_flown']).mean(), 1)\n",
    "latex_table = average_values.to_latex()\n",
    "average_values"
   ]
  },
  {
   "cell_type": "code",
   "execution_count": 20,
   "id": "ece86205",
   "metadata": {
    "scrolled": true
   },
   "outputs": [
    {
     "name": "stderr",
     "output_type": "stream",
     "text": [
      "C:\\Users\\70608ebe\\AppData\\Local\\Temp\\ipykernel_9384\\154306383.py:2: FutureWarning: In future versions `DataFrame.to_latex` is expected to utilise the base implementation of `Styler.to_latex` for formatting and rendering. The arguments signature may therefore change. It is recommended instead to use `DataFrame.style.to_latex` which also contains additional functionality.\n",
      "  latex_table = average_values.to_latex()\n"
     ]
    },
    {
     "data": {
      "text/html": [
       "<div>\n",
       "<style scoped>\n",
       "    .dataframe tbody tr th:only-of-type {\n",
       "        vertical-align: middle;\n",
       "    }\n",
       "\n",
       "    .dataframe tbody tr th {\n",
       "        vertical-align: top;\n",
       "    }\n",
       "\n",
       "    .dataframe thead th {\n",
       "        text-align: right;\n",
       "    }\n",
       "</style>\n",
       "<table border=\"1\" class=\"dataframe\">\n",
       "  <thead>\n",
       "    <tr style=\"text-align: right;\">\n",
       "      <th></th>\n",
       "      <th></th>\n",
       "      <th>ratingValue</th>\n",
       "      <th>verified</th>\n",
       "      <th>seat_comfort</th>\n",
       "      <th>cabin_staff_service</th>\n",
       "      <th>food_and_beverages</th>\n",
       "      <th>ground_service</th>\n",
       "      <th>value_for_money</th>\n",
       "      <th>inflight_entertainment</th>\n",
       "      <th>wifi_and_connectivity</th>\n",
       "      <th>is_english</th>\n",
       "      <th>year_flown</th>\n",
       "      <th>reviewText_char_count</th>\n",
       "      <th>period</th>\n",
       "      <th>compound_score</th>\n",
       "    </tr>\n",
       "    <tr>\n",
       "      <th>before_during_covid</th>\n",
       "      <th>type_of_traveller</th>\n",
       "      <th></th>\n",
       "      <th></th>\n",
       "      <th></th>\n",
       "      <th></th>\n",
       "      <th></th>\n",
       "      <th></th>\n",
       "      <th></th>\n",
       "      <th></th>\n",
       "      <th></th>\n",
       "      <th></th>\n",
       "      <th></th>\n",
       "      <th></th>\n",
       "      <th></th>\n",
       "      <th></th>\n",
       "    </tr>\n",
       "  </thead>\n",
       "  <tbody>\n",
       "    <tr>\n",
       "      <th rowspan=\"4\" valign=\"top\">0</th>\n",
       "      <th>Business</th>\n",
       "      <td>4.1</td>\n",
       "      <td>1.0</td>\n",
       "      <td>2.7</td>\n",
       "      <td>3.0</td>\n",
       "      <td>2.6</td>\n",
       "      <td>2.5</td>\n",
       "      <td>2.4</td>\n",
       "      <td>2.5</td>\n",
       "      <td>2.2</td>\n",
       "      <td>1.0</td>\n",
       "      <td>2017.9</td>\n",
       "      <td>805.0</td>\n",
       "      <td>0.0</td>\n",
       "      <td>0.0</td>\n",
       "    </tr>\n",
       "    <tr>\n",
       "      <th>Couple Leisure</th>\n",
       "      <td>3.9</td>\n",
       "      <td>1.0</td>\n",
       "      <td>2.5</td>\n",
       "      <td>2.9</td>\n",
       "      <td>2.6</td>\n",
       "      <td>2.4</td>\n",
       "      <td>2.5</td>\n",
       "      <td>2.7</td>\n",
       "      <td>2.0</td>\n",
       "      <td>1.0</td>\n",
       "      <td>2018.0</td>\n",
       "      <td>851.4</td>\n",
       "      <td>0.0</td>\n",
       "      <td>-0.0</td>\n",
       "    </tr>\n",
       "    <tr>\n",
       "      <th>Family Leisure</th>\n",
       "      <td>3.8</td>\n",
       "      <td>1.0</td>\n",
       "      <td>2.6</td>\n",
       "      <td>2.9</td>\n",
       "      <td>2.6</td>\n",
       "      <td>2.4</td>\n",
       "      <td>2.4</td>\n",
       "      <td>2.8</td>\n",
       "      <td>2.1</td>\n",
       "      <td>1.0</td>\n",
       "      <td>2018.0</td>\n",
       "      <td>865.1</td>\n",
       "      <td>0.0</td>\n",
       "      <td>-0.0</td>\n",
       "    </tr>\n",
       "    <tr>\n",
       "      <th>Solo Leisure</th>\n",
       "      <td>4.6</td>\n",
       "      <td>1.0</td>\n",
       "      <td>2.8</td>\n",
       "      <td>3.1</td>\n",
       "      <td>2.9</td>\n",
       "      <td>2.6</td>\n",
       "      <td>2.8</td>\n",
       "      <td>2.8</td>\n",
       "      <td>2.1</td>\n",
       "      <td>1.0</td>\n",
       "      <td>2018.0</td>\n",
       "      <td>805.2</td>\n",
       "      <td>0.0</td>\n",
       "      <td>0.1</td>\n",
       "    </tr>\n",
       "    <tr>\n",
       "      <th rowspan=\"4\" valign=\"top\">1</th>\n",
       "      <th>Business</th>\n",
       "      <td>3.1</td>\n",
       "      <td>1.0</td>\n",
       "      <td>2.5</td>\n",
       "      <td>2.7</td>\n",
       "      <td>2.3</td>\n",
       "      <td>2.1</td>\n",
       "      <td>2.0</td>\n",
       "      <td>2.5</td>\n",
       "      <td>2.2</td>\n",
       "      <td>1.0</td>\n",
       "      <td>2021.3</td>\n",
       "      <td>827.4</td>\n",
       "      <td>1.0</td>\n",
       "      <td>-0.2</td>\n",
       "    </tr>\n",
       "    <tr>\n",
       "      <th>Couple Leisure</th>\n",
       "      <td>3.1</td>\n",
       "      <td>1.0</td>\n",
       "      <td>2.4</td>\n",
       "      <td>2.7</td>\n",
       "      <td>2.4</td>\n",
       "      <td>2.1</td>\n",
       "      <td>2.1</td>\n",
       "      <td>2.4</td>\n",
       "      <td>1.9</td>\n",
       "      <td>1.0</td>\n",
       "      <td>2021.3</td>\n",
       "      <td>838.1</td>\n",
       "      <td>1.0</td>\n",
       "      <td>-0.2</td>\n",
       "    </tr>\n",
       "    <tr>\n",
       "      <th>Family Leisure</th>\n",
       "      <td>2.5</td>\n",
       "      <td>1.0</td>\n",
       "      <td>2.3</td>\n",
       "      <td>2.6</td>\n",
       "      <td>2.3</td>\n",
       "      <td>1.9</td>\n",
       "      <td>1.9</td>\n",
       "      <td>2.4</td>\n",
       "      <td>1.9</td>\n",
       "      <td>1.0</td>\n",
       "      <td>2021.3</td>\n",
       "      <td>873.9</td>\n",
       "      <td>1.0</td>\n",
       "      <td>-0.3</td>\n",
       "    </tr>\n",
       "    <tr>\n",
       "      <th>Solo Leisure</th>\n",
       "      <td>3.2</td>\n",
       "      <td>1.0</td>\n",
       "      <td>2.6</td>\n",
       "      <td>2.7</td>\n",
       "      <td>2.5</td>\n",
       "      <td>2.2</td>\n",
       "      <td>2.1</td>\n",
       "      <td>2.5</td>\n",
       "      <td>2.0</td>\n",
       "      <td>1.0</td>\n",
       "      <td>2021.2</td>\n",
       "      <td>820.8</td>\n",
       "      <td>1.0</td>\n",
       "      <td>-0.2</td>\n",
       "    </tr>\n",
       "  </tbody>\n",
       "</table>\n",
       "</div>"
      ],
      "text/plain": [
       "                                       ratingValue  verified  seat_comfort  \\\n",
       "before_during_covid type_of_traveller                                        \n",
       "0                   Business                   4.1       1.0           2.7   \n",
       "                    Couple Leisure             3.9       1.0           2.5   \n",
       "                    Family Leisure             3.8       1.0           2.6   \n",
       "                    Solo Leisure               4.6       1.0           2.8   \n",
       "1                   Business                   3.1       1.0           2.5   \n",
       "                    Couple Leisure             3.1       1.0           2.4   \n",
       "                    Family Leisure             2.5       1.0           2.3   \n",
       "                    Solo Leisure               3.2       1.0           2.6   \n",
       "\n",
       "                                       cabin_staff_service  \\\n",
       "before_during_covid type_of_traveller                        \n",
       "0                   Business                           3.0   \n",
       "                    Couple Leisure                     2.9   \n",
       "                    Family Leisure                     2.9   \n",
       "                    Solo Leisure                       3.1   \n",
       "1                   Business                           2.7   \n",
       "                    Couple Leisure                     2.7   \n",
       "                    Family Leisure                     2.6   \n",
       "                    Solo Leisure                       2.7   \n",
       "\n",
       "                                       food_and_beverages  ground_service  \\\n",
       "before_during_covid type_of_traveller                                       \n",
       "0                   Business                          2.6             2.5   \n",
       "                    Couple Leisure                    2.6             2.4   \n",
       "                    Family Leisure                    2.6             2.4   \n",
       "                    Solo Leisure                      2.9             2.6   \n",
       "1                   Business                          2.3             2.1   \n",
       "                    Couple Leisure                    2.4             2.1   \n",
       "                    Family Leisure                    2.3             1.9   \n",
       "                    Solo Leisure                      2.5             2.2   \n",
       "\n",
       "                                       value_for_money  \\\n",
       "before_during_covid type_of_traveller                    \n",
       "0                   Business                       2.4   \n",
       "                    Couple Leisure                 2.5   \n",
       "                    Family Leisure                 2.4   \n",
       "                    Solo Leisure                   2.8   \n",
       "1                   Business                       2.0   \n",
       "                    Couple Leisure                 2.1   \n",
       "                    Family Leisure                 1.9   \n",
       "                    Solo Leisure                   2.1   \n",
       "\n",
       "                                       inflight_entertainment  \\\n",
       "before_during_covid type_of_traveller                           \n",
       "0                   Business                              2.5   \n",
       "                    Couple Leisure                        2.7   \n",
       "                    Family Leisure                        2.8   \n",
       "                    Solo Leisure                          2.8   \n",
       "1                   Business                              2.5   \n",
       "                    Couple Leisure                        2.4   \n",
       "                    Family Leisure                        2.4   \n",
       "                    Solo Leisure                          2.5   \n",
       "\n",
       "                                       wifi_and_connectivity  is_english  \\\n",
       "before_during_covid type_of_traveller                                      \n",
       "0                   Business                             2.2         1.0   \n",
       "                    Couple Leisure                       2.0         1.0   \n",
       "                    Family Leisure                       2.1         1.0   \n",
       "                    Solo Leisure                         2.1         1.0   \n",
       "1                   Business                             2.2         1.0   \n",
       "                    Couple Leisure                       1.9         1.0   \n",
       "                    Family Leisure                       1.9         1.0   \n",
       "                    Solo Leisure                         2.0         1.0   \n",
       "\n",
       "                                       year_flown  reviewText_char_count  \\\n",
       "before_during_covid type_of_traveller                                      \n",
       "0                   Business               2017.9                  805.0   \n",
       "                    Couple Leisure         2018.0                  851.4   \n",
       "                    Family Leisure         2018.0                  865.1   \n",
       "                    Solo Leisure           2018.0                  805.2   \n",
       "1                   Business               2021.3                  827.4   \n",
       "                    Couple Leisure         2021.3                  838.1   \n",
       "                    Family Leisure         2021.3                  873.9   \n",
       "                    Solo Leisure           2021.2                  820.8   \n",
       "\n",
       "                                       period  compound_score  \n",
       "before_during_covid type_of_traveller                          \n",
       "0                   Business              0.0             0.0  \n",
       "                    Couple Leisure        0.0            -0.0  \n",
       "                    Family Leisure        0.0            -0.0  \n",
       "                    Solo Leisure          0.0             0.1  \n",
       "1                   Business              1.0            -0.2  \n",
       "                    Couple Leisure        1.0            -0.2  \n",
       "                    Family Leisure        1.0            -0.3  \n",
       "                    Solo Leisure          1.0            -0.2  "
      ]
     },
     "execution_count": 20,
     "metadata": {},
     "output_type": "execute_result"
    }
   ],
   "source": [
    "average_values = round(data.groupby(['before_during_covid', 'type_of_traveller']).mean(), 1)\n",
    "latex_table = average_values.to_latex()\n",
    "average_values"
   ]
  },
  {
   "cell_type": "code",
   "execution_count": null,
   "id": "ec234dad",
   "metadata": {},
   "outputs": [],
   "source": []
  },
  {
   "cell_type": "markdown",
   "id": "7362686b",
   "metadata": {},
   "source": [
    "### Line plots"
   ]
  },
  {
   "cell_type": "code",
   "execution_count": 81,
   "id": "c84c419e",
   "metadata": {
    "scrolled": true
   },
   "outputs": [
    {
     "data": {
      "image/png": "[encoded data removed]",
      "text/plain": [
       "<Figure size 432x288 with 1 Axes>"
      ]
     },
     "metadata": {
      "needs_background": "light"
     },
     "output_type": "display_data"
    }
   ],
   "source": [
    "# Group the DataFrame by 'year_flown'\n",
    "reviews_per_year = data.groupby('year_flown').size()\n",
    "\n",
    "plt.axvline(x=2020, color='red', linestyle='--')\n",
    "\n",
    "# Create a line plot\n",
    "plt.plot(reviews_per_year.index, reviews_per_year.values, marker='o', color = 'black')\n",
    "plt.xlabel('Year')\n",
    "plt.ylabel('Count of Reviews')\n",
    "plt.title('Count of Reviews per Year')\n",
    "plt.xticks(rotation=45)\n",
    "plt.show()"
   ]
  },
  {
   "cell_type": "code",
   "execution_count": 204,
   "id": "2827c88b",
   "metadata": {
    "scrolled": false
   },
   "outputs": [
    {
     "data": {
      "image/png": "[encoded data removed]",
      "text/plain": [
       "<Figure size 432x288 with 1 Axes>"
      ]
     },
     "metadata": {
      "needs_background": "light"
     },
     "output_type": "display_data"
    }
   ],
   "source": [
    "# Convert to datetime format\n",
    "data['date_flown'] = pd.to_datetime(data['date_flown'])\n",
    "\n",
    "# Group the data\n",
    "daily_counts = data.groupby('date_flown').size().reset_index(name='count')\n",
    "\n",
    "# Create a line plot of the daily counts\n",
    "plt.plot(daily_counts['date_flown'], daily_counts['count'], color='black')\n",
    "plt.xlabel('Date')\n",
    "plt.ylabel('Count')\n",
    "plt.title('Number of Reviews per Month')\n",
    "plt.xticks(rotation=45)\n",
    "plt.axvline(pd.Timestamp('2020-01-01'), color='red', linestyle='--', label='Start COVID-19')\n",
    "plt.legend(loc='center left', bbox_to_anchor=(0.55, 0.9), fontsize='x-small')\n",
    "plt.show()\n"
   ]
  },
  {
   "cell_type": "code",
   "execution_count": 44,
   "id": "88c436ef",
   "metadata": {},
   "outputs": [
    {
     "name": "stdout",
     "output_type": "stream",
     "text": [
      "Before COVID:\n",
      "count    7649\n",
      "dtype: int64\n",
      "\n",
      "During and After COVID:\n",
      "count    3145\n",
      "dtype: int64\n"
     ]
    },
    {
     "name": "stderr",
     "output_type": "stream",
     "text": [
      "C:\\Users\\70608ebe\\AppData\\Local\\Temp\\ipykernel_14004\\2657362208.py:10: FutureWarning: Dropping of nuisance columns in DataFrame reductions (with 'numeric_only=None') is deprecated; in a future version this will raise TypeError.  Select only valid columns before calling the reduction.\n",
      "  before_covid_counts = before_covid.groupby('date_flown').size().reset_index(name='count').sum()\n",
      "C:\\Users\\70608ebe\\AppData\\Local\\Temp\\ipykernel_14004\\2657362208.py:11: FutureWarning: Dropping of nuisance columns in DataFrame reductions (with 'numeric_only=None') is deprecated; in a future version this will raise TypeError.  Select only valid columns before calling the reduction.\n",
      "  during_after_covid_counts = during_after_covid.groupby('date_flown').size().reset_index(name='count').sum()\n"
     ]
    }
   ],
   "source": [
    "# Calculate the count\n",
    "before_covid_counts = before_covid.groupby('date_flown').size().reset_index(name='count').sum()\n",
    "during_after_covid_counts = during_after_covid.groupby('date_flown').size().reset_index(name='count').sum()\n",
    "\n",
    "print(\"Before COVID:\")\n",
    "print(before_covid_counts)\n",
    "print(\"\\nDuring and After COVID:\")\n",
    "print(during_after_covid_counts)\n"
   ]
  },
  {
   "cell_type": "markdown",
   "id": "6c236f4b",
   "metadata": {},
   "source": [
    "# 2. Sentiment Analysis"
   ]
  },
  {
   "cell_type": "code",
   "execution_count": 7,
   "id": "7d4bbfd0",
   "metadata": {},
   "outputs": [],
   "source": [
    "# Filter the data for each period\n",
    "period1_data = data[data['before_during_covid'] == 0]\n",
    "period2_data = data[data['before_during_covid'] == 1]"
   ]
  },
  {
   "cell_type": "code",
   "execution_count": 8,
   "id": "ae5f5c81",
   "metadata": {},
   "outputs": [
    {
     "data": {
      "text/plain": [
       "array([2022, 2021, 2020], dtype=int64)"
      ]
     },
     "execution_count": 8,
     "metadata": {},
     "output_type": "execute_result"
    }
   ],
   "source": [
    "period1_data['year_flown'].unique()\n",
    "period2_data['year_flown'].unique()"
   ]
  },
  {
   "cell_type": "code",
   "execution_count": 9,
   "id": "d9974eca",
   "metadata": {},
   "outputs": [
    {
     "data": {
      "image/png": "[encoded data removed]",
      "text/plain": [
       "<Figure size 432x288 with 1 Axes>"
      ]
     },
     "metadata": {
      "needs_background": "light"
     },
     "output_type": "display_data"
    }
   ],
   "source": [
    "plt.hist(period1_data['compound_score'], bins=20, edgecolor='white', color='grey')\n",
    "\n",
    "plt.xlabel('Compound Score')\n",
    "plt.ylabel('Count of Reviews')\n",
    "plt.title('Distribution of Compound Scores 2017-2019')\n",
    "plt.xticks(rotation=45)\n",
    "plt.show()\n"
   ]
  },
  {
   "cell_type": "code",
   "execution_count": 10,
   "id": "9caebcaa",
   "metadata": {},
   "outputs": [
    {
     "data": {
      "image/png": "[encoded data removed]",
      "text/plain": [
       "<Figure size 432x288 with 1 Axes>"
      ]
     },
     "metadata": {
      "needs_background": "light"
     },
     "output_type": "display_data"
    }
   ],
   "source": [
    "plt.hist(period2_data['compound_score'], bins=20, edgecolor='white', color='grey')\n",
    "\n",
    "plt.xlabel('Compound Score')\n",
    "plt.ylabel('Count of Reviews')\n",
    "plt.title('Distribution of Compound Scores after January 2020')\n",
    "plt.xticks(rotation=45)\n",
    "plt.show()\n"
   ]
  },
  {
   "cell_type": "code",
   "execution_count": 11,
   "id": "ba7f211f",
   "metadata": {
    "scrolled": true
   },
   "outputs": [
    {
     "data": {
      "image/png": "[encoded data removed]",
      "text/plain": [
       "<Figure size 720x432 with 1 Axes>"
      ]
     },
     "metadata": {
      "needs_background": "light"
     },
     "output_type": "display_data"
    },
    {
     "data": {
      "text/plain": [
       "<Figure size 720x576 with 0 Axes>"
      ]
     },
     "metadata": {},
     "output_type": "display_data"
    }
   ],
   "source": [
    "# Group the data by year and overall sentiment and calculate the count\n",
    "sentiment_counts = data.groupby(['year_flown', 'overall_sentiment']).size().unstack()\n",
    "\n",
    "# otalTcount per year\n",
    "total_counts = sentiment_counts.sum(axis=1)\n",
    "\n",
    "# Calculate the percentage of each sentiment per year\n",
    "percentage_positive = (sentiment_counts['Positive'] / total_counts) * 100\n",
    "percentage_negative = (sentiment_counts['Negative'] / total_counts) * 100\n",
    "percentage_neutral = (sentiment_counts['Neutral'] / total_counts) * 100\n",
    "\n",
    "\n",
    "years = sorted(data['year_flown'].unique())\n",
    "\n",
    "\n",
    "plt.figure(figsize=(10, 6))\n",
    "bar_width = 0.2\n",
    "bar_positions = [i for i in range(len(years))]\n",
    "\n",
    "# Plot the bars for each sentiment\n",
    "plt.bar(bar_positions, percentage_positive, width=bar_width, label='Positive', color='lightgreen', edgecolor='white')\n",
    "plt.bar([p + bar_width for p in bar_positions], percentage_negative, width=bar_width, label='Negative', color='red',edgecolor='white')\n",
    "plt.bar([p + 2 * bar_width for p in bar_positions], percentage_neutral, width=bar_width, label='Neutral', color='gray', edgecolor='white')\n",
    "\n",
    "# Set the plot title and axes labels\n",
    "plt.title('Percentage of Reviews by Sentiment per Year')\n",
    "plt.xlabel('Year')\n",
    "plt.ylabel('Percentage (%)')\n",
    "plt.xticks(bar_positions, years)\n",
    "plt.legend(bbox_to_anchor=(1, 0.3), fontsize='medium')\n",
    "plt.figure(figsize=(10, 8))\n",
    "plt.show()\n"
   ]
  },
  {
   "cell_type": "code",
   "execution_count": 12,
   "id": "9ab78960",
   "metadata": {},
   "outputs": [
    {
     "name": "stdout",
     "output_type": "stream",
     "text": [
      "            Year  Positive (%)  Negative (%)  Neutral (%)\n",
      "year_flown                                               \n",
      "2017        2017     55.735181     42.994611     1.270208\n",
      "2018        2018     45.954198     52.671756     1.374046\n",
      "2019        2019     44.097079     53.805019     2.097902\n",
      "2020        2020     38.681592     58.830846     2.487562\n",
      "2021        2021     37.452711     60.907945     1.639344\n",
      "2022        2022     31.653747     67.054264     1.291990\n"
     ]
    }
   ],
   "source": [
    "# Group the data by year and overall sentiment and calculate the count\n",
    "sentiment_counts = data.groupby(['year_flown', 'overall_sentiment']).size().unstack()\n",
    "\n",
    "# Calculate the total count per year\n",
    "total_counts = sentiment_counts.sum(axis=1)\n",
    "\n",
    "# Calculate the percentage of each sentiment per year\n",
    "percentage_positive = (sentiment_counts['Positive'] / total_counts) * 100\n",
    "percentage_negative = (sentiment_counts['Negative'] / total_counts) * 100\n",
    "percentage_neutral = (sentiment_counts['Neutral'] / total_counts) * 100\n",
    "\n",
    "# Create a DataFrame to display the table\n",
    "table_data = pd.DataFrame({\n",
    "    'Year': years,\n",
    "    'Positive (%)': percentage_positive,\n",
    "    'Negative (%)': percentage_negative,\n",
    "    'Neutral (%)': percentage_neutral\n",
    "})\n",
    "\n",
    "# Display the table\n",
    "print(table_data)\n"
   ]
  },
  {
   "cell_type": "code",
   "execution_count": 92,
   "id": "aee9be7c",
   "metadata": {},
   "outputs": [
    {
     "data": {
      "image/png": "[encoded data removed]",
      "text/plain": [
       "<Figure size 432x288 with 1 Axes>"
      ]
     },
     "metadata": {
      "needs_background": "light"
     },
     "output_type": "display_data"
    }
   ],
   "source": [
    "# Group the data by year and extract the compound scores\n",
    "yearly_scores = [data[data['year_flown'] == year]['compound_score'] for year in data['year_flown'].unique()]\n",
    "\n",
    "# Set the y-range for the plot\n",
    "plt.ylim(-2.5, 2.5)\n",
    "\n",
    "# Create the boxplot\n",
    "plt.boxplot(yearly_scores, labels=data['year_flown'].unique())\n",
    "\n",
    "plt.title('Polarity Boxplot per Year')\n",
    "plt.xlabel('Year')\n",
    "plt.ylabel('Compound Score')\n",
    "plt.show()\n",
    "\n"
   ]
  },
  {
   "cell_type": "code",
   "execution_count": 203,
   "id": "6d4e8eb2",
   "metadata": {},
   "outputs": [
    {
     "data": {
      "image/png": "[encoded data removed]",
      "text/plain": [
       "<Figure size 720x576 with 1 Axes>"
      ]
     },
     "metadata": {
      "needs_background": "light"
     },
     "output_type": "display_data"
    }
   ],
   "source": [
    "# Group the data by year and calculate the average compound score\n",
    "average_scores = data.groupby('year_flown')['compound_score'].mean().reset_index()\n",
    "\n",
    "plt.figure(figsize=(10, 8))\n",
    "\n",
    "# Fit a GAM smoothing curve\n",
    "gam_model = sm.GLM(average_scores['compound_score'], sm.add_constant(average_scores['year_flown']), family=sm.families.Gaussian())\n",
    "gam_result = gam_model.fit()\n",
    "\n",
    "# Generate predicted values using the GAM model\n",
    "predictions = gam_result.predict(sm.add_constant(average_scores['year_flown']))\n",
    "\n",
    "# Plot the actual average compound scores\n",
    "sns.lineplot(x=average_scores['year_flown'], y=average_scores['compound_score'], marker='o', label='Actual', color = 'black')\n",
    "\n",
    "# Plot the GAM smoothing curve\n",
    "sns.lineplot(x=average_scores['year_flown'], y=predictions, label='Smoothed', color = 'red')\n",
    "\n",
    "plt.ylim(-0.3, 0.2)\n",
    "plt.title('Sentiment over Time')\n",
    "plt.xlabel('Year')\n",
    "plt.ylabel('Average Compound Score')\n",
    "plt.show()\n"
   ]
  },
  {
   "cell_type": "code",
   "execution_count": 118,
   "id": "974d32e6",
   "metadata": {
    "scrolled": true
   },
   "outputs": [
    {
     "name": "stdout",
     "output_type": "stream",
     "text": [
      "Mean:\n",
      "before_during_covid\n",
      "0    0.024491\n",
      "1   -0.210004\n",
      "Name: mean, dtype: float64\n",
      "\n",
      "Median:\n",
      "before_during_covid\n",
      "0   -0.0258\n",
      "1   -0.5574\n",
      "Name: 50%, dtype: float64\n",
      "\n",
      "Quartiles:\n",
      "                        25%     75%\n",
      "before_during_covid                \n",
      "0                   -0.8181  0.8958\n",
      "1                   -0.8720  0.6304\n",
      "\n",
      "Standard Deviation:\n",
      "before_during_covid\n",
      "0    0.789446\n",
      "1    0.740723\n",
      "Name: std, dtype: float64\n"
     ]
    }
   ],
   "source": [
    "# Group the data by period and calculate the statistics\n",
    "statistics = data.groupby('before_during_covid')['compound_score'].describe()\n",
    "\n",
    "# Extract the desired statistics\n",
    "mean = statistics['mean']\n",
    "median = statistics['50%'] \n",
    "quartiles = statistics[['25%', '75%']]\n",
    "std = statistics['std']\n",
    "\n",
    "# Print the statistics\n",
    "print(\"Mean:\")\n",
    "print(mean)\n",
    "print(\"\\nMedian:\")\n",
    "print(median)\n",
    "print(\"\\nQuartiles:\")\n",
    "print(quartiles)\n",
    "print(\"\\nStandard Deviation:\")\n",
    "print(std)"
   ]
  },
  {
   "cell_type": "code",
   "execution_count": 25,
   "id": "ab8cc477",
   "metadata": {},
   "outputs": [
    {
     "name": "stderr",
     "output_type": "stream",
     "text": [
      "C:\\Users\\70608ebe\\AppData\\Local\\Temp\\ipykernel_9384\\1018440252.py:2: FutureWarning: In future versions `DataFrame.to_latex` is expected to utilise the base implementation of `Styler.to_latex` for formatting and rendering. The arguments signature may therefore change. It is recommended instead to use `DataFrame.style.to_latex` which also contains additional functionality.\n",
      "  latex_table = average_values.to_latex()\n"
     ]
    },
    {
     "data": {
      "text/plain": [
       "'\\\\begin{tabular}{llr}\\n\\\\toprule\\n  &              &  compound\\\\_score \\\\\\\\\\nbefore\\\\_during\\\\_covid & type\\\\_of\\\\_traveller &                 \\\\\\\\\\n\\\\midrule\\n0 & Business &        0.013095 \\\\\\\\\\n  & Couple Leisure &       -0.032757 \\\\\\\\\\n  & Family Leisure &       -0.049875 \\\\\\\\\\n  & Solo Leisure &        0.104268 \\\\\\\\\\n1 & Business &       -0.204096 \\\\\\\\\\n  & Couple Leisure &       -0.222966 \\\\\\\\\\n  & Family Leisure &       -0.298264 \\\\\\\\\\n  & Solo Leisure &       -0.165540 \\\\\\\\\\n\\\\bottomrule\\n\\\\end{tabular}\\n'"
      ]
     },
     "execution_count": 25,
     "metadata": {},
     "output_type": "execute_result"
    }
   ],
   "source": [
    "average_values = data.groupby(['before_during_covid', 'type_of_traveller'])['compound_score'].mean()\n",
    "latex_table = average_values.to_latex()\n",
    "latex_table\n"
   ]
  },
  {
   "cell_type": "markdown",
   "id": "ec3239da",
   "metadata": {},
   "source": [
    "## Changepoint Analysis"
   ]
  },
  {
   "cell_type": "markdown",
   "id": "f01c4998",
   "metadata": {},
   "source": [
    "### PELT"
   ]
  },
  {
   "cell_type": "code",
   "execution_count": 208,
   "id": "44bf48cf",
   "metadata": {
    "scrolled": false
   },
   "outputs": [
    {
     "ename": "IndexError",
     "evalue": "index 72 is out of bounds for axis 0 with size 72",
     "output_type": "error",
     "traceback": [
      "\u001b[1;31m---------------------------------------------------------------------------\u001b[0m",
      "\u001b[1;31mIndexError\u001b[0m                                Traceback (most recent call last)",
      "Input \u001b[1;32mIn [208]\u001b[0m, in \u001b[0;36m<cell line: 24>\u001b[1;34m()\u001b[0m\n\u001b[0;32m     23\u001b[0m \u001b[38;5;66;03m# Plot vertical lines for the detected change points (PELT)\u001b[39;00m\n\u001b[0;32m     24\u001b[0m \u001b[38;5;28;01mfor\u001b[39;00m cp \u001b[38;5;129;01min\u001b[39;00m result_pelt:\n\u001b[1;32m---> 25\u001b[0m     plt\u001b[38;5;241m.\u001b[39maxvline(x\u001b[38;5;241m=\u001b[39m\u001b[43mseries_monthly\u001b[49m\u001b[38;5;241;43m.\u001b[39;49m\u001b[43mindex\u001b[49m\u001b[43m[\u001b[49m\u001b[43mcp\u001b[49m\u001b[43m]\u001b[49m, color\u001b[38;5;241m=\u001b[39m\u001b[38;5;124m'\u001b[39m\u001b[38;5;124mred\u001b[39m\u001b[38;5;124m'\u001b[39m, linestyle\u001b[38;5;241m=\u001b[39m\u001b[38;5;124m'\u001b[39m\u001b[38;5;124m--\u001b[39m\u001b[38;5;124m'\u001b[39m, label\u001b[38;5;241m=\u001b[39m\u001b[38;5;124m'\u001b[39m\u001b[38;5;124mPELT\u001b[39m\u001b[38;5;124m'\u001b[39m)\n\u001b[0;32m     27\u001b[0m plt\u001b[38;5;241m.\u001b[39mxticks(rotation\u001b[38;5;241m=\u001b[39m\u001b[38;5;241m90\u001b[39m)\n\u001b[0;32m     28\u001b[0m plt\u001b[38;5;241m.\u001b[39mlegend([\u001b[38;5;124m'\u001b[39m\u001b[38;5;124mChange Point\u001b[39m\u001b[38;5;124m'\u001b[39m])\n",
      "File \u001b[1;32mC:\\ProgramData\\Anaconda3\\lib\\site-packages\\pandas\\core\\indexes\\base.py:5039\u001b[0m, in \u001b[0;36mIndex.__getitem__\u001b[1;34m(self, key)\u001b[0m\n\u001b[0;32m   5036\u001b[0m \u001b[38;5;28;01mif\u001b[39;00m is_integer(key) \u001b[38;5;129;01mor\u001b[39;00m is_float(key):\n\u001b[0;32m   5037\u001b[0m     \u001b[38;5;66;03m# GH#44051 exclude bool, which would return a 2d ndarray\u001b[39;00m\n\u001b[0;32m   5038\u001b[0m     key \u001b[38;5;241m=\u001b[39m com\u001b[38;5;241m.\u001b[39mcast_scalar_indexer(key, warn_float\u001b[38;5;241m=\u001b[39m\u001b[38;5;28;01mTrue\u001b[39;00m)\n\u001b[1;32m-> 5039\u001b[0m     \u001b[38;5;28;01mreturn\u001b[39;00m \u001b[43mgetitem\u001b[49m\u001b[43m(\u001b[49m\u001b[43mkey\u001b[49m\u001b[43m)\u001b[49m\n\u001b[0;32m   5041\u001b[0m \u001b[38;5;28;01mif\u001b[39;00m \u001b[38;5;28misinstance\u001b[39m(key, \u001b[38;5;28mslice\u001b[39m):\n\u001b[0;32m   5042\u001b[0m     \u001b[38;5;66;03m# This case is separated from the conditional above to avoid\u001b[39;00m\n\u001b[0;32m   5043\u001b[0m     \u001b[38;5;66;03m# pessimization com.is_bool_indexer and ndim checks.\u001b[39;00m\n\u001b[0;32m   5044\u001b[0m     result \u001b[38;5;241m=\u001b[39m getitem(key)\n",
      "File \u001b[1;32mC:\\ProgramData\\Anaconda3\\lib\\site-packages\\pandas\\core\\arrays\\datetimelike.py:341\u001b[0m, in \u001b[0;36mDatetimeLikeArrayMixin.__getitem__\u001b[1;34m(self, key)\u001b[0m\n\u001b[0;32m    333\u001b[0m \u001b[38;5;124;03m\"\"\"\u001b[39;00m\n\u001b[0;32m    334\u001b[0m \u001b[38;5;124;03mThis getitem defers to the underlying array, which by-definition can\u001b[39;00m\n\u001b[0;32m    335\u001b[0m \u001b[38;5;124;03monly handle list-likes, slices, and integer scalars\u001b[39;00m\n\u001b[0;32m    336\u001b[0m \u001b[38;5;124;03m\"\"\"\u001b[39;00m\n\u001b[0;32m    337\u001b[0m \u001b[38;5;66;03m# Use cast as we know we will get back a DatetimeLikeArray or DTScalar,\u001b[39;00m\n\u001b[0;32m    338\u001b[0m \u001b[38;5;66;03m# but skip evaluating the Union at runtime for performance\u001b[39;00m\n\u001b[0;32m    339\u001b[0m \u001b[38;5;66;03m# (see https://github.com/pandas-dev/pandas/pull/44624)\u001b[39;00m\n\u001b[0;32m    340\u001b[0m result \u001b[38;5;241m=\u001b[39m cast(\n\u001b[1;32m--> 341\u001b[0m     \u001b[38;5;124m\"\u001b[39m\u001b[38;5;124mUnion[DatetimeLikeArrayT, DTScalarOrNaT]\u001b[39m\u001b[38;5;124m\"\u001b[39m, \u001b[38;5;28;43msuper\u001b[39;49m\u001b[43m(\u001b[49m\u001b[43m)\u001b[49m\u001b[38;5;241;43m.\u001b[39;49m\u001b[38;5;21;43m__getitem__\u001b[39;49m\u001b[43m(\u001b[49m\u001b[43mkey\u001b[49m\u001b[43m)\u001b[49m\n\u001b[0;32m    342\u001b[0m )\n\u001b[0;32m    343\u001b[0m \u001b[38;5;28;01mif\u001b[39;00m lib\u001b[38;5;241m.\u001b[39mis_scalar(result):\n\u001b[0;32m    344\u001b[0m     \u001b[38;5;28;01mreturn\u001b[39;00m result\n",
      "File \u001b[1;32mC:\\ProgramData\\Anaconda3\\lib\\site-packages\\pandas\\core\\arrays\\_mixins.py:272\u001b[0m, in \u001b[0;36mNDArrayBackedExtensionArray.__getitem__\u001b[1;34m(self, key)\u001b[0m\n\u001b[0;32m    266\u001b[0m \u001b[38;5;28;01mdef\u001b[39;00m \u001b[38;5;21m__getitem__\u001b[39m(\n\u001b[0;32m    267\u001b[0m     \u001b[38;5;28mself\u001b[39m: NDArrayBackedExtensionArrayT,\n\u001b[0;32m    268\u001b[0m     key: PositionalIndexer2D,\n\u001b[0;32m    269\u001b[0m ) \u001b[38;5;241m-\u001b[39m\u001b[38;5;241m>\u001b[39m NDArrayBackedExtensionArrayT \u001b[38;5;241m|\u001b[39m Any:\n\u001b[0;32m    270\u001b[0m     \u001b[38;5;28;01mif\u001b[39;00m lib\u001b[38;5;241m.\u001b[39mis_integer(key):\n\u001b[0;32m    271\u001b[0m         \u001b[38;5;66;03m# fast-path\u001b[39;00m\n\u001b[1;32m--> 272\u001b[0m         result \u001b[38;5;241m=\u001b[39m \u001b[38;5;28;43mself\u001b[39;49m\u001b[38;5;241;43m.\u001b[39;49m\u001b[43m_ndarray\u001b[49m\u001b[43m[\u001b[49m\u001b[43mkey\u001b[49m\u001b[43m]\u001b[49m\n\u001b[0;32m    273\u001b[0m         \u001b[38;5;28;01mif\u001b[39;00m \u001b[38;5;28mself\u001b[39m\u001b[38;5;241m.\u001b[39mndim \u001b[38;5;241m==\u001b[39m \u001b[38;5;241m1\u001b[39m:\n\u001b[0;32m    274\u001b[0m             \u001b[38;5;28;01mreturn\u001b[39;00m \u001b[38;5;28mself\u001b[39m\u001b[38;5;241m.\u001b[39m_box_func(result)\n",
      "\u001b[1;31mIndexError\u001b[0m: index 72 is out of bounds for axis 0 with size 72"
     ]
    },
    {
     "data": {
      "image/png": "[encoded data removed]",
      "text/plain": [
       "<Figure size 720x432 with 1 Axes>"
      ]
     },
     "metadata": {
      "needs_background": "light"
     },
     "output_type": "display_data"
    }
   ],
   "source": [
    "# Extract the sentiment scores and corresponding month values\n",
    "changepoint_data = data['compound_score'].values\n",
    "months = pd.to_datetime(data['date_flown'])\n",
    "\n",
    "# Create a Pandas Series with sentiment scores and month values\n",
    "series = pd.Series(data=changepoint_data, index=months)\n",
    "\n",
    "# Resample the series to monthly frequency\n",
    "series_monthly = series.resample('M').mean()\n",
    "\n",
    "# PELT\n",
    "penalty = 5  # Adjust the penalty value\n",
    "algo_pelt = rpt.Pelt(model=\"rbf\").fit(series_monthly.values[:, np.newaxis])\n",
    "result_pelt = algo_pelt.predict(pen=penalty)\n",
    "\n",
    "# Visualize the change points\n",
    "plt.figure(figsize=(10, 6))\n",
    "plt.plot(series_monthly.index, series_monthly.values)\n",
    "plt.title(\"Change Point Detection with PELT\")\n",
    "plt.xlabel(\"Year\")\n",
    "plt.ylabel(\"Average Compound Score\")\n",
    "\n",
    "# Plot vertical lines for the detected change points (PELT)\n",
    "for cp in result_pelt:\n",
    "    plt.axvline(x=series_monthly.index[cp], color='red', linestyle='--', label='PELT')\n",
    "\n",
    "plt.xticks(rotation=90)\n",
    "plt.legend(['Change Point'])\n",
    "plt.show()\n"
   ]
  },
  {
   "cell_type": "code",
   "execution_count": 151,
   "id": "212cdcfa",
   "metadata": {},
   "outputs": [
    {
     "data": {
      "text/plain": [
       "[35, 72]"
      ]
     },
     "execution_count": 151,
     "metadata": {},
     "output_type": "execute_result"
    }
   ],
   "source": [
    "# Indicate change points\n",
    "result_pelt"
   ]
  },
  {
   "cell_type": "code",
   "execution_count": 152,
   "id": "897a7605",
   "metadata": {},
   "outputs": [
    {
     "data": {
      "text/plain": [
       "Timestamp('2019-12-31 00:00:00', freq='M')"
      ]
     },
     "execution_count": 152,
     "metadata": {},
     "output_type": "execute_result"
    }
   ],
   "source": [
    "series_monthly.index[35]"
   ]
  },
  {
   "cell_type": "code",
   "execution_count": 155,
   "id": "136d9ef1",
   "metadata": {},
   "outputs": [],
   "source": [
    "data['date_flown'] = pd.to_datetime(data['date_flown'], errors='coerce')\n",
    "\n",
    "# Filter the dataset\n",
    "start_date = pd.to_datetime('2017-06-01')\n",
    "end_date = pd.to_datetime('2022-06-30')\n",
    "filtered_data_v2 = data[(data['date_flown'] >= start_date) & (data['date_flown'] <= end_date)]"
   ]
  },
  {
   "cell_type": "code",
   "execution_count": 158,
   "id": "2d6811c1",
   "metadata": {},
   "outputs": [
    {
     "ename": "IndexError",
     "evalue": "index 61 is out of bounds for axis 0 with size 61",
     "output_type": "error",
     "traceback": [
      "\u001b[1;31m---------------------------------------------------------------------------\u001b[0m",
      "\u001b[1;31mIndexError\u001b[0m                                Traceback (most recent call last)",
      "Input \u001b[1;32mIn [158]\u001b[0m, in \u001b[0;36m<cell line: 29>\u001b[1;34m()\u001b[0m\n\u001b[0;32m     28\u001b[0m \u001b[38;5;66;03m# Plot vertical lines for the detected change points (PELT)\u001b[39;00m\n\u001b[0;32m     29\u001b[0m \u001b[38;5;28;01mfor\u001b[39;00m cp \u001b[38;5;129;01min\u001b[39;00m result_pelt:\n\u001b[1;32m---> 30\u001b[0m     plt\u001b[38;5;241m.\u001b[39maxvline(x\u001b[38;5;241m=\u001b[39m\u001b[43mseries_monthly\u001b[49m\u001b[38;5;241;43m.\u001b[39;49m\u001b[43mindex\u001b[49m\u001b[43m[\u001b[49m\u001b[43mcp\u001b[49m\u001b[43m]\u001b[49m, color\u001b[38;5;241m=\u001b[39m\u001b[38;5;124m'\u001b[39m\u001b[38;5;124mred\u001b[39m\u001b[38;5;124m'\u001b[39m, linestyle\u001b[38;5;241m=\u001b[39m\u001b[38;5;124m'\u001b[39m\u001b[38;5;124m--\u001b[39m\u001b[38;5;124m'\u001b[39m, label\u001b[38;5;241m=\u001b[39m\u001b[38;5;124m'\u001b[39m\u001b[38;5;124mPELT\u001b[39m\u001b[38;5;124m'\u001b[39m)\n\u001b[0;32m     32\u001b[0m plt\u001b[38;5;241m.\u001b[39mxticks(rotation\u001b[38;5;241m=\u001b[39m\u001b[38;5;241m90\u001b[39m)\n\u001b[0;32m     33\u001b[0m plt\u001b[38;5;241m.\u001b[39mlegend()\n",
      "File \u001b[1;32mC:\\ProgramData\\Anaconda3\\lib\\site-packages\\pandas\\core\\indexes\\base.py:5039\u001b[0m, in \u001b[0;36mIndex.__getitem__\u001b[1;34m(self, key)\u001b[0m\n\u001b[0;32m   5036\u001b[0m \u001b[38;5;28;01mif\u001b[39;00m is_integer(key) \u001b[38;5;129;01mor\u001b[39;00m is_float(key):\n\u001b[0;32m   5037\u001b[0m     \u001b[38;5;66;03m# GH#44051 exclude bool, which would return a 2d ndarray\u001b[39;00m\n\u001b[0;32m   5038\u001b[0m     key \u001b[38;5;241m=\u001b[39m com\u001b[38;5;241m.\u001b[39mcast_scalar_indexer(key, warn_float\u001b[38;5;241m=\u001b[39m\u001b[38;5;28;01mTrue\u001b[39;00m)\n\u001b[1;32m-> 5039\u001b[0m     \u001b[38;5;28;01mreturn\u001b[39;00m \u001b[43mgetitem\u001b[49m\u001b[43m(\u001b[49m\u001b[43mkey\u001b[49m\u001b[43m)\u001b[49m\n\u001b[0;32m   5041\u001b[0m \u001b[38;5;28;01mif\u001b[39;00m \u001b[38;5;28misinstance\u001b[39m(key, \u001b[38;5;28mslice\u001b[39m):\n\u001b[0;32m   5042\u001b[0m     \u001b[38;5;66;03m# This case is separated from the conditional above to avoid\u001b[39;00m\n\u001b[0;32m   5043\u001b[0m     \u001b[38;5;66;03m# pessimization com.is_bool_indexer and ndim checks.\u001b[39;00m\n\u001b[0;32m   5044\u001b[0m     result \u001b[38;5;241m=\u001b[39m getitem(key)\n",
      "File \u001b[1;32mC:\\ProgramData\\Anaconda3\\lib\\site-packages\\pandas\\core\\arrays\\datetimelike.py:341\u001b[0m, in \u001b[0;36mDatetimeLikeArrayMixin.__getitem__\u001b[1;34m(self, key)\u001b[0m\n\u001b[0;32m    333\u001b[0m \u001b[38;5;124;03m\"\"\"\u001b[39;00m\n\u001b[0;32m    334\u001b[0m \u001b[38;5;124;03mThis getitem defers to the underlying array, which by-definition can\u001b[39;00m\n\u001b[0;32m    335\u001b[0m \u001b[38;5;124;03monly handle list-likes, slices, and integer scalars\u001b[39;00m\n\u001b[0;32m    336\u001b[0m \u001b[38;5;124;03m\"\"\"\u001b[39;00m\n\u001b[0;32m    337\u001b[0m \u001b[38;5;66;03m# Use cast as we know we will get back a DatetimeLikeArray or DTScalar,\u001b[39;00m\n\u001b[0;32m    338\u001b[0m \u001b[38;5;66;03m# but skip evaluating the Union at runtime for performance\u001b[39;00m\n\u001b[0;32m    339\u001b[0m \u001b[38;5;66;03m# (see https://github.com/pandas-dev/pandas/pull/44624)\u001b[39;00m\n\u001b[0;32m    340\u001b[0m result \u001b[38;5;241m=\u001b[39m cast(\n\u001b[1;32m--> 341\u001b[0m     \u001b[38;5;124m\"\u001b[39m\u001b[38;5;124mUnion[DatetimeLikeArrayT, DTScalarOrNaT]\u001b[39m\u001b[38;5;124m\"\u001b[39m, \u001b[38;5;28;43msuper\u001b[39;49m\u001b[43m(\u001b[49m\u001b[43m)\u001b[49m\u001b[38;5;241;43m.\u001b[39;49m\u001b[38;5;21;43m__getitem__\u001b[39;49m\u001b[43m(\u001b[49m\u001b[43mkey\u001b[49m\u001b[43m)\u001b[49m\n\u001b[0;32m    342\u001b[0m )\n\u001b[0;32m    343\u001b[0m \u001b[38;5;28;01mif\u001b[39;00m lib\u001b[38;5;241m.\u001b[39mis_scalar(result):\n\u001b[0;32m    344\u001b[0m     \u001b[38;5;28;01mreturn\u001b[39;00m result\n",
      "File \u001b[1;32mC:\\ProgramData\\Anaconda3\\lib\\site-packages\\pandas\\core\\arrays\\_mixins.py:272\u001b[0m, in \u001b[0;36mNDArrayBackedExtensionArray.__getitem__\u001b[1;34m(self, key)\u001b[0m\n\u001b[0;32m    266\u001b[0m \u001b[38;5;28;01mdef\u001b[39;00m \u001b[38;5;21m__getitem__\u001b[39m(\n\u001b[0;32m    267\u001b[0m     \u001b[38;5;28mself\u001b[39m: NDArrayBackedExtensionArrayT,\n\u001b[0;32m    268\u001b[0m     key: PositionalIndexer2D,\n\u001b[0;32m    269\u001b[0m ) \u001b[38;5;241m-\u001b[39m\u001b[38;5;241m>\u001b[39m NDArrayBackedExtensionArrayT \u001b[38;5;241m|\u001b[39m Any:\n\u001b[0;32m    270\u001b[0m     \u001b[38;5;28;01mif\u001b[39;00m lib\u001b[38;5;241m.\u001b[39mis_integer(key):\n\u001b[0;32m    271\u001b[0m         \u001b[38;5;66;03m# fast-path\u001b[39;00m\n\u001b[1;32m--> 272\u001b[0m         result \u001b[38;5;241m=\u001b[39m \u001b[38;5;28;43mself\u001b[39;49m\u001b[38;5;241;43m.\u001b[39;49m\u001b[43m_ndarray\u001b[49m\u001b[43m[\u001b[49m\u001b[43mkey\u001b[49m\u001b[43m]\u001b[49m\n\u001b[0;32m    273\u001b[0m         \u001b[38;5;28;01mif\u001b[39;00m \u001b[38;5;28mself\u001b[39m\u001b[38;5;241m.\u001b[39mndim \u001b[38;5;241m==\u001b[39m \u001b[38;5;241m1\u001b[39m:\n\u001b[0;32m    274\u001b[0m             \u001b[38;5;28;01mreturn\u001b[39;00m \u001b[38;5;28mself\u001b[39m\u001b[38;5;241m.\u001b[39m_box_func(result)\n",
      "\u001b[1;31mIndexError\u001b[0m: index 61 is out of bounds for axis 0 with size 61"
     ]
    },
    {
     "data": {
      "image/png": "[encoded data removed]",
      "text/plain": [
       "<Figure size 720x432 with 1 Axes>"
      ]
     },
     "metadata": {
      "needs_background": "light"
     },
     "output_type": "display_data"
    }
   ],
   "source": [
    "# Extract the sentiment scores and corresponding month values \n",
    "changepoint_data = filtered_data_v2['compound_score'].values\n",
    "months = pd.to_datetime(filtered_data_v2['date_flown'])\n",
    "\n",
    "series = pd.Series(data=changepoint_data, index=months)\n",
    "\n",
    "# Resample the series to monthly frequency\n",
    "series_monthly = series.resample('M').mean()\n",
    "\n",
    "# PELT\n",
    "penalty = 5  # Adjust the penalty value\n",
    "algo_pelt = rpt.Pelt(model=\"rbf\").fit(series_monthly.values[:, np.newaxis])\n",
    "result_pelt = algo_pelt.predict(pen=penalty)\n",
    "\n",
    "# Visualize the change points\n",
    "plt.figure(figsize=(10, 6))\n",
    "plt.plot(series_monthly.index, series_monthly.values)\n",
    "plt.title(\"Sentiment Score Change Point Detection\")\n",
    "plt.xlabel(\"Months\")\n",
    "plt.ylabel(\"Sentiment Score\")\n",
    "\n",
    "# Plot vertical lines for the detected change points (PELT)\n",
    "for cp in result_pelt:\n",
    "    plt.axvline(x=series_monthly.index[cp], color='red', linestyle='--', label='PELT')\n",
    "\n",
    "plt.xticks(rotation=90)\n",
    "plt.legend()\n",
    "plt.show()"
   ]
  },
  {
   "cell_type": "markdown",
   "id": "d10ce44b",
   "metadata": {},
   "source": [
    "## BinarySeq"
   ]
  },
  {
   "cell_type": "code",
   "execution_count": 207,
   "id": "a9d9c9c6",
   "metadata": {
    "scrolled": true
   },
   "outputs": [
    {
     "ename": "IndexError",
     "evalue": "index 72 is out of bounds for axis 0 with size 72",
     "output_type": "error",
     "traceback": [
      "\u001b[1;31m---------------------------------------------------------------------------\u001b[0m",
      "\u001b[1;31mIndexError\u001b[0m                                Traceback (most recent call last)",
      "Input \u001b[1;32mIn [207]\u001b[0m, in \u001b[0;36m<cell line: 27>\u001b[1;34m()\u001b[0m\n\u001b[0;32m     26\u001b[0m \u001b[38;5;66;03m# Plot vertical lines for the detected change points (BinarySeg)\u001b[39;00m\n\u001b[0;32m     27\u001b[0m \u001b[38;5;28;01mfor\u001b[39;00m cp \u001b[38;5;129;01min\u001b[39;00m result_binaryseg:\n\u001b[1;32m---> 28\u001b[0m     plt\u001b[38;5;241m.\u001b[39maxvline(x\u001b[38;5;241m=\u001b[39m\u001b[43mseries_monthly\u001b[49m\u001b[38;5;241;43m.\u001b[39;49m\u001b[43mindex\u001b[49m\u001b[43m[\u001b[49m\u001b[43mcp\u001b[49m\u001b[43m]\u001b[49m, color\u001b[38;5;241m=\u001b[39m\u001b[38;5;124m'\u001b[39m\u001b[38;5;124mred\u001b[39m\u001b[38;5;124m'\u001b[39m, linestyle\u001b[38;5;241m=\u001b[39m\u001b[38;5;124m'\u001b[39m\u001b[38;5;124m--\u001b[39m\u001b[38;5;124m'\u001b[39m, label\u001b[38;5;241m=\u001b[39m\u001b[38;5;124m'\u001b[39m\u001b[38;5;124mBinarySeg\u001b[39m\u001b[38;5;124m'\u001b[39m)\n\u001b[0;32m     30\u001b[0m plt\u001b[38;5;241m.\u001b[39mxticks(rotation\u001b[38;5;241m=\u001b[39m\u001b[38;5;241m90\u001b[39m)\n\u001b[0;32m     31\u001b[0m plt\u001b[38;5;241m.\u001b[39mlegend()\n",
      "File \u001b[1;32mC:\\ProgramData\\Anaconda3\\lib\\site-packages\\pandas\\core\\indexes\\base.py:5039\u001b[0m, in \u001b[0;36mIndex.__getitem__\u001b[1;34m(self, key)\u001b[0m\n\u001b[0;32m   5036\u001b[0m \u001b[38;5;28;01mif\u001b[39;00m is_integer(key) \u001b[38;5;129;01mor\u001b[39;00m is_float(key):\n\u001b[0;32m   5037\u001b[0m     \u001b[38;5;66;03m# GH#44051 exclude bool, which would return a 2d ndarray\u001b[39;00m\n\u001b[0;32m   5038\u001b[0m     key \u001b[38;5;241m=\u001b[39m com\u001b[38;5;241m.\u001b[39mcast_scalar_indexer(key, warn_float\u001b[38;5;241m=\u001b[39m\u001b[38;5;28;01mTrue\u001b[39;00m)\n\u001b[1;32m-> 5039\u001b[0m     \u001b[38;5;28;01mreturn\u001b[39;00m \u001b[43mgetitem\u001b[49m\u001b[43m(\u001b[49m\u001b[43mkey\u001b[49m\u001b[43m)\u001b[49m\n\u001b[0;32m   5041\u001b[0m \u001b[38;5;28;01mif\u001b[39;00m \u001b[38;5;28misinstance\u001b[39m(key, \u001b[38;5;28mslice\u001b[39m):\n\u001b[0;32m   5042\u001b[0m     \u001b[38;5;66;03m# This case is separated from the conditional above to avoid\u001b[39;00m\n\u001b[0;32m   5043\u001b[0m     \u001b[38;5;66;03m# pessimization com.is_bool_indexer and ndim checks.\u001b[39;00m\n\u001b[0;32m   5044\u001b[0m     result \u001b[38;5;241m=\u001b[39m getitem(key)\n",
      "File \u001b[1;32mC:\\ProgramData\\Anaconda3\\lib\\site-packages\\pandas\\core\\arrays\\datetimelike.py:341\u001b[0m, in \u001b[0;36mDatetimeLikeArrayMixin.__getitem__\u001b[1;34m(self, key)\u001b[0m\n\u001b[0;32m    333\u001b[0m \u001b[38;5;124;03m\"\"\"\u001b[39;00m\n\u001b[0;32m    334\u001b[0m \u001b[38;5;124;03mThis getitem defers to the underlying array, which by-definition can\u001b[39;00m\n\u001b[0;32m    335\u001b[0m \u001b[38;5;124;03monly handle list-likes, slices, and integer scalars\u001b[39;00m\n\u001b[0;32m    336\u001b[0m \u001b[38;5;124;03m\"\"\"\u001b[39;00m\n\u001b[0;32m    337\u001b[0m \u001b[38;5;66;03m# Use cast as we know we will get back a DatetimeLikeArray or DTScalar,\u001b[39;00m\n\u001b[0;32m    338\u001b[0m \u001b[38;5;66;03m# but skip evaluating the Union at runtime for performance\u001b[39;00m\n\u001b[0;32m    339\u001b[0m \u001b[38;5;66;03m# (see https://github.com/pandas-dev/pandas/pull/44624)\u001b[39;00m\n\u001b[0;32m    340\u001b[0m result \u001b[38;5;241m=\u001b[39m cast(\n\u001b[1;32m--> 341\u001b[0m     \u001b[38;5;124m\"\u001b[39m\u001b[38;5;124mUnion[DatetimeLikeArrayT, DTScalarOrNaT]\u001b[39m\u001b[38;5;124m\"\u001b[39m, \u001b[38;5;28;43msuper\u001b[39;49m\u001b[43m(\u001b[49m\u001b[43m)\u001b[49m\u001b[38;5;241;43m.\u001b[39;49m\u001b[38;5;21;43m__getitem__\u001b[39;49m\u001b[43m(\u001b[49m\u001b[43mkey\u001b[49m\u001b[43m)\u001b[49m\n\u001b[0;32m    342\u001b[0m )\n\u001b[0;32m    343\u001b[0m \u001b[38;5;28;01mif\u001b[39;00m lib\u001b[38;5;241m.\u001b[39mis_scalar(result):\n\u001b[0;32m    344\u001b[0m     \u001b[38;5;28;01mreturn\u001b[39;00m result\n",
      "File \u001b[1;32mC:\\ProgramData\\Anaconda3\\lib\\site-packages\\pandas\\core\\arrays\\_mixins.py:272\u001b[0m, in \u001b[0;36mNDArrayBackedExtensionArray.__getitem__\u001b[1;34m(self, key)\u001b[0m\n\u001b[0;32m    266\u001b[0m \u001b[38;5;28;01mdef\u001b[39;00m \u001b[38;5;21m__getitem__\u001b[39m(\n\u001b[0;32m    267\u001b[0m     \u001b[38;5;28mself\u001b[39m: NDArrayBackedExtensionArrayT,\n\u001b[0;32m    268\u001b[0m     key: PositionalIndexer2D,\n\u001b[0;32m    269\u001b[0m ) \u001b[38;5;241m-\u001b[39m\u001b[38;5;241m>\u001b[39m NDArrayBackedExtensionArrayT \u001b[38;5;241m|\u001b[39m Any:\n\u001b[0;32m    270\u001b[0m     \u001b[38;5;28;01mif\u001b[39;00m lib\u001b[38;5;241m.\u001b[39mis_integer(key):\n\u001b[0;32m    271\u001b[0m         \u001b[38;5;66;03m# fast-path\u001b[39;00m\n\u001b[1;32m--> 272\u001b[0m         result \u001b[38;5;241m=\u001b[39m \u001b[38;5;28;43mself\u001b[39;49m\u001b[38;5;241;43m.\u001b[39;49m\u001b[43m_ndarray\u001b[49m\u001b[43m[\u001b[49m\u001b[43mkey\u001b[49m\u001b[43m]\u001b[49m\n\u001b[0;32m    273\u001b[0m         \u001b[38;5;28;01mif\u001b[39;00m \u001b[38;5;28mself\u001b[39m\u001b[38;5;241m.\u001b[39mndim \u001b[38;5;241m==\u001b[39m \u001b[38;5;241m1\u001b[39m:\n\u001b[0;32m    274\u001b[0m             \u001b[38;5;28;01mreturn\u001b[39;00m \u001b[38;5;28mself\u001b[39m\u001b[38;5;241m.\u001b[39m_box_func(result)\n",
      "\u001b[1;31mIndexError\u001b[0m: index 72 is out of bounds for axis 0 with size 72"
     ]
    },
    {
     "data": {
      "image/png": "[encoded data removed]",
      "text/plain": [
       "<Figure size 720x432 with 1 Axes>"
      ]
     },
     "metadata": {
      "needs_background": "light"
     },
     "output_type": "display_data"
    }
   ],
   "source": [
    "# Extract the sentiment scores and corresponding month values from the DataFrame\n",
    "changepoint_data = data['compound_score'].values\n",
    "months = pd.to_datetime(data['date_flown'])\n",
    "\n",
    "# Create a Pandas Series with sentiment scores and month values\n",
    "series = pd.Series(data=changepoint_data, index=months)\n",
    "\n",
    "# Resample the series to monthly frequency\n",
    "series_monthly = series.resample('M').mean()\n",
    "\n",
    "# Specify the maximum number of change points\n",
    "max_size = 3  # Adjust this value based on the expected number of change points\n",
    "\n",
    "# Binary Segmentation\n",
    "model = \"l2\"  # Change this to the desired model\n",
    "algo_binaryseg = rpt.Binseg(model=model).fit(series_monthly.values[:, np.newaxis])\n",
    "result_binaryseg = algo_binaryseg.predict(n_bkps=max_size)\n",
    "\n",
    "# Visualize the change points\n",
    "plt.figure(figsize=(10, 6))\n",
    "plt.plot(series_monthly.index, series_monthly.values)\n",
    "plt.title(\"Change Point Detection with BinarySeq\")\n",
    "plt.xlabel(\"Year\")\n",
    "plt.ylabel(\"Average Compound Score\")\n",
    "\n",
    "# Plot vertical lines for the detected change points (BinarySeg)\n",
    "for cp in result_binaryseg:\n",
    "    plt.axvline(x=series_monthly.index[cp], color='red', linestyle='--', label='BinarySeg')\n",
    "\n",
    "plt.xticks(rotation=90)\n",
    "plt.legend()\n",
    "plt.show()\n"
   ]
  },
  {
   "cell_type": "code",
   "execution_count": 167,
   "id": "b0bbbda3",
   "metadata": {},
   "outputs": [
    {
     "data": {
      "text/plain": [
       "[10, 35, 40, 72]"
      ]
     },
     "execution_count": 167,
     "metadata": {},
     "output_type": "execute_result"
    }
   ],
   "source": [
    "result_binaryseg"
   ]
  },
  {
   "cell_type": "code",
   "execution_count": 170,
   "id": "eaf19cc4",
   "metadata": {},
   "outputs": [
    {
     "name": "stdout",
     "output_type": "stream",
     "text": [
      "2019-12-31 00:00:00\n",
      "2020-05-31 00:00:00\n"
     ]
    }
   ],
   "source": [
    "print(series_monthly.index[35])\n",
    "print(series_monthly.index[40])"
   ]
  },
  {
   "cell_type": "markdown",
   "id": "07be9918",
   "metadata": {},
   "source": [
    "### Word frequency"
   ]
  },
  {
   "cell_type": "code",
   "execution_count": 187,
   "id": "09332f66",
   "metadata": {},
   "outputs": [],
   "source": [
    "positive_reviews = data[data['overall_sentiment'] == 'Positive']\n",
    "negative_reviews = data[data['overall_sentiment'] == 'Negative']"
   ]
  },
  {
   "cell_type": "code",
   "execution_count": 184,
   "id": "c8fd97a6",
   "metadata": {},
   "outputs": [],
   "source": [
    "nlp = spacy.load('en_core_web_sm')\n",
    "\n",
    "def extract_adj_noun_combinations(review):\n",
    "    doc = nlp(review)\n",
    "    adj_noun_combinations = []\n",
    "\n",
    "    for token in doc:\n",
    "        if token.pos_ == 'ADJ' and token.head.pos_ == 'NOUN':\n",
    "            adj_noun_combinations.append(f\"{token.text} {token.head.text}\")\n",
    "\n",
    "    return adj_noun_combinations"
   ]
  },
  {
   "cell_type": "markdown",
   "id": "2b1a39ef",
   "metadata": {},
   "source": [
    "## POSITIVE REVIEWS"
   ]
  },
  {
   "cell_type": "markdown",
   "id": "edc0972a",
   "metadata": {},
   "source": [
    "##### ADJ + NOUN"
   ]
  },
  {
   "cell_type": "code",
   "execution_count": 189,
   "id": "3d4c38a6",
   "metadata": {},
   "outputs": [
    {
     "name": "stdout",
     "output_type": "stream",
     "text": [
      "other airlines: 284\n",
      "first time: 206\n",
      "long haul: 195\n",
      "short haul: 182\n",
      "short flight: 165\n",
      "low cost: 159\n",
      "next flight: 137\n",
      "good experience: 119\n",
      "next day: 114\n",
      "first flight: 104\n",
      "good service: 100\n",
      "middle seat: 98\n",
      "inflight entertainment: 93\n",
      "good flight: 89\n",
      "premium economy: 88\n",
      "friendly crew: 85\n",
      "comfortable seats: 76\n",
      "long flight: 74\n",
      "other passengers: 72\n",
      "outbound flight: 70\n"
     ]
    }
   ],
   "source": [
    "adj_noun_combinations = []\n",
    "\n",
    "for review in positive_reviews['processed_review']:\n",
    "    combinations = extract_adj_noun_combinations(review)\n",
    "    adj_noun_combinations.extend(combinations)\n",
    "\n",
    "# Count the frequency of adjective + noun combinations\n",
    "combination_counts = Counter(adj_noun_combinations)\n",
    "\n",
    "# Get the most common adjective + noun combinations\n",
    "most_common_combinations = combination_counts.most_common(20)\n",
    "\n",
    "# Display the most common adjective + noun combinations\n",
    "for combination, count in most_common_combinations:\n",
    "    print(f\"{combination}: {count}\")\n"
   ]
  },
  {
   "cell_type": "markdown",
   "id": "0cdb87e9",
   "metadata": {},
   "source": [
    "##### POS ADJ + NOUN"
   ]
  },
  {
   "cell_type": "code",
   "execution_count": 191,
   "id": "018107f9",
   "metadata": {},
   "outputs": [
    {
     "name": "stdout",
     "output_type": "stream",
     "text": [
      "good experience: 102\n",
      "good flight: 87\n",
      "good service: 73\n",
      "nice touch: 61\n",
      "good selection: 61\n",
      "good value: 59\n",
      "pleasant flight: 56\n",
      "good quality: 54\n",
      "comfortable seats: 53\n",
      "pleasant experience: 50\n",
      "friendly crew: 47\n",
      "good food: 46\n",
      "great service: 44\n",
      "great flight: 43\n",
      "great experience: 41\n",
      "good choice: 38\n",
      "nice flight: 34\n",
      "comfortable flight: 34\n",
      "excellent service: 33\n",
      "friendly staff: 33\n"
     ]
    }
   ],
   "source": [
    "import spacy\n",
    "from vaderSentiment.vaderSentiment import SentimentIntensityAnalyzer\n",
    "from collections import Counter\n",
    "\n",
    "nlp = spacy.load('en_core_web_sm')\n",
    "analyzer = SentimentIntensityAnalyzer()\n",
    "\n",
    "positive_adj_noun_combinations = []\n",
    "\n",
    "for review in positive_reviews['processed_review']:\n",
    "    doc = nlp(review)\n",
    "    \n",
    "    for i, token in enumerate(doc[:-1]):\n",
    "        if (\n",
    "            token.pos_ == 'ADJ' and\n",
    "            analyzer.polarity_scores(token.text)['compound'] > 0 and\n",
    "            doc[i+1].pos_ == 'NOUN'\n",
    "        ):\n",
    "            combination = f\"{token.text} {doc[i+1].text}\"\n",
    "            positive_adj_noun_combinations.append(combination)\n",
    "\n",
    "# Count the frequency of positive adjective + noun combinations\n",
    "combination_counts = Counter(positive_adj_noun_combinations)\n",
    "\n",
    "# Get the most common positive adjective + noun combinations\n",
    "most_common_combinations = combination_counts.most_common(20)\n",
    "\n",
    "# Display the most common positive adjective + noun combinations\n",
    "for combination, count in most_common_combinations:\n",
    "    print(f\"{combination}: {count}\")\n"
   ]
  },
  {
   "cell_type": "markdown",
   "id": "c3b42f60",
   "metadata": {},
   "source": [
    "##### NOUN + ADJ OR ADJ + NOUN"
   ]
  },
  {
   "cell_type": "code",
   "execution_count": null,
   "id": "1c492e51",
   "metadata": {
    "scrolled": true
   },
   "outputs": [],
   "source": [
    "import spacy\n",
    "from vaderSentiment.vaderSentiment import SentimentIntensityAnalyzer\n",
    "from collections import Counter\n",
    "\n",
    "nlp = spacy.load('en_core_web_sm')\n",
    "analyzer = SentimentIntensityAnalyzer()\n",
    "\n",
    "positive_adj_noun_combinations = []\n",
    "\n",
    "for review in positive_reviews['processed_review']:\n",
    "    doc = nlp(review)\n",
    "    \n",
    "    for i, token in enumerate(doc[:-1]):\n",
    "        if (\n",
    "            (token.pos_ == 'ADJ' and analyzer.polarity_scores(token.text)['compound'] > 0 and doc[i+1].pos_ == 'NOUN') or\n",
    "            (token.pos_ == 'NOUN' and analyzer.polarity_scores(token.text)['compound'] > 0 and doc[i+1].pos_ == 'ADJ')\n",
    "        ):\n",
    "            combination = f\"{token.text} {doc[i+1].text}\"\n",
    "            positive_adj_noun_combinations.append(combination)\n",
    "\n",
    "# Count the frequency of positive adjective + noun and noun + adjective combinations\n",
    "combination_counts = Counter(positive_adj_noun_combinations)\n",
    "\n",
    "# Get the most common positive adjective + noun and noun + adjective combinations\n",
    "most_common_combinations = combination_counts.most_common(20)\n",
    "\n",
    "# Display the most common positive adjective + noun and noun + adjective combinations\n",
    "for combination, count in most_common_combinations:\n",
    "    print(f\"{combination}: {count}\")\n"
   ]
  },
  {
   "cell_type": "markdown",
   "id": "761485db",
   "metadata": {},
   "source": [
    "## NEGATIVE REVIEWS"
   ]
  },
  {
   "cell_type": "code",
   "execution_count": 192,
   "id": "7da83b37",
   "metadata": {},
   "outputs": [
    {
     "name": "stdout",
     "output_type": "stream",
     "text": [
      "next day: 387\n",
      "next flight: 298\n",
      "worst experience: 196\n",
      "other airlines: 188\n",
      "first time: 177\n",
      "low cost: 169\n",
      "worst airline: 146\n",
      "first flight: 134\n",
      "new ticket: 129\n",
      "new flight: 128\n",
      "poor service: 123\n",
      "last time: 116\n",
      "other passengers: 116\n",
      "online check: 113\n",
      "last minute: 110\n",
      "several times: 106\n",
      "bad experience: 98\n",
      "worst service: 95\n",
      "Worst airline: 84\n",
      "other flights: 83\n"
     ]
    }
   ],
   "source": [
    "adj_noun_combinations = []\n",
    "\n",
    "for review in negative_reviews['processed_review']:\n",
    "    combinations = extract_adj_noun_combinations(review)\n",
    "    adj_noun_combinations.extend(combinations)\n",
    "\n",
    "# Count the frequency of adjective + noun combinations\n",
    "combination_counts = Counter(adj_noun_combinations)\n",
    "\n",
    "# Get the most common adjective + noun combinations\n",
    "most_common_combinations = combination_counts.most_common(20)\n",
    "\n",
    "# Display the most common adjective + noun combinations\n",
    "for combination, count in most_common_combinations:\n",
    "    print(f\"{combination}: {count}\")\n"
   ]
  },
  {
   "cell_type": "markdown",
   "id": "928430d1",
   "metadata": {},
   "source": [
    "##### NEG ADJ + NOUN"
   ]
  },
  {
   "cell_type": "code",
   "execution_count": 193,
   "id": "247608a1",
   "metadata": {},
   "outputs": [
    {
     "name": "stdout",
     "output_type": "stream",
     "text": [
      "low cost: 195\n",
      "worst airline: 162\n",
      "worst experience: 120\n",
      "Worst airline: 93\n",
      "bad experience: 90\n",
      "worst customer: 81\n",
      "poor service: 75\n",
      "terrible experience: 51\n",
      "worst flight: 49\n",
      "poor customer: 48\n",
      "bad weather: 45\n",
      "rude staff: 41\n",
      "uncomfortable seats: 40\n",
      "bad service: 38\n",
      "poor quality: 37\n",
      "Worst customer: 36\n",
      "Terrible experience: 36\n",
      "bad customer: 34\n",
      "horrible experience: 32\n",
      "terrible customer: 30\n"
     ]
    }
   ],
   "source": [
    "import spacy\n",
    "from vaderSentiment.vaderSentiment import SentimentIntensityAnalyzer\n",
    "from collections import Counter\n",
    "\n",
    "nlp = spacy.load('en_core_web_sm')\n",
    "analyzer = SentimentIntensityAnalyzer()\n",
    "\n",
    "negative_adj_noun_combinations = []\n",
    "\n",
    "for review in negative_reviews['processed_review']:\n",
    "    doc = nlp(review)\n",
    "    \n",
    "    for i, token in enumerate(doc[:-1]):\n",
    "        if (\n",
    "            token.pos_ == 'ADJ' and\n",
    "            analyzer.polarity_scores(token.text)['compound'] < 0 and\n",
    "            doc[i+1].pos_ == 'NOUN'\n",
    "        ):\n",
    "            combination = f\"{token.text} {doc[i+1].text}\"\n",
    "            negative_adj_noun_combinations.append(combination)\n",
    "\n",
    "# Count the frequency of positive adjective + noun combinations\n",
    "combination_counts = Counter(negative_adj_noun_combinations)\n",
    "\n",
    "# Get the most common positive adjective + noun combinations\n",
    "most_common_combinations = combination_counts.most_common(20)\n",
    "\n",
    "# Display the most common positive adjective + noun combinations\n",
    "for combination, count in most_common_combinations:\n",
    "    print(f\"{combination}: {count}\")\n"
   ]
  },
  {
   "cell_type": "code",
   "execution_count": 194,
   "id": "06da350e",
   "metadata": {
    "scrolled": false
   },
   "outputs": [
    {
     "name": "stdout",
     "output_type": "stream",
     "text": [
      "low cost: 195\n",
      "worst airline: 162\n",
      "worst experience: 120\n",
      "Worst airline: 93\n",
      "bad experience: 90\n",
      "worst customer: 81\n",
      "poor service: 75\n",
      "terrible experience: 51\n",
      "worst flight: 49\n",
      "poor customer: 48\n",
      "bad weather: 45\n",
      "rude staff: 41\n",
      "uncomfortable seats: 40\n",
      "bad service: 38\n",
      "poor quality: 37\n",
      "Worst customer: 36\n",
      "Terrible experience: 36\n",
      "bad customer: 34\n",
      "horrible experience: 32\n",
      "terrible customer: 30\n"
     ]
    }
   ],
   "source": [
    "import spacy\n",
    "from vaderSentiment.vaderSentiment import SentimentIntensityAnalyzer\n",
    "from collections import Counter\n",
    "\n",
    "nlp = spacy.load('en_core_web_sm')\n",
    "analyzer = SentimentIntensityAnalyzer()\n",
    "\n",
    "negative_adj_noun_combinations = []\n",
    "\n",
    "for review in negative_reviews['processed_review']:\n",
    "    doc = nlp(review)\n",
    "    \n",
    "    for i, token in enumerate(doc[:-1]):\n",
    "        if (\n",
    "            (token.pos_ == 'ADJ' and analyzer.polarity_scores(token.text)['compound'] < 0 and doc[i+1].pos_ == 'NOUN') or\n",
    "            (token.pos_ == 'NOUN' and analyzer.polarity_scores(token.text)['compound'] < 0 and doc[i+1].pos_ == 'ADJ')\n",
    "        ):\n",
    "            combination = f\"{token.text} {doc[i+1].text}\"\n",
    "            negative_adj_noun_combinations.append(combination)\n",
    "\n",
    "# Count the frequency of positive adjective + noun and noun + adjective combinations\n",
    "combination_counts = Counter(negative_adj_noun_combinations)\n",
    "\n",
    "# Get the most common positive adjective + noun and noun + adjective combinations\n",
    "most_common_combinations = combination_counts.most_common(20)\n",
    "\n",
    "# Display the most common positive adjective + noun and noun + adjective combinations\n",
    "for combination, count in most_common_combinations:\n",
    "    print(f\"{combination}: {count}\")\n"
   ]
  },
  {
   "cell_type": "markdown",
   "id": "6becdef5",
   "metadata": {},
   "source": [
    "## Type of Traveler"
   ]
  },
  {
   "cell_type": "code",
   "execution_count": 28,
   "id": "12fcb0ee",
   "metadata": {},
   "outputs": [
    {
     "name": "stdout",
     "output_type": "stream",
     "text": [
      "  Type of Traveller Count   Average Standard Deviation Minimum  \\\n",
      "0          Business  1981 -0.040627           0.779065 -0.9928   \n",
      "1    Couple Leisure  2968 -0.085885           0.774293 -0.9974   \n",
      "2    Family Leisure  1734 -0.129233           0.778089 -0.9974   \n",
      "3      Solo Leisure  4109  0.020811           0.787625 -0.9969   \n",
      "\n",
      "  25th Percentile   Median 75th Percentile Maximum  \n",
      "0         -0.8337    -0.25          0.8551  0.9987  \n",
      "1       -0.845725    -0.34        0.817925  0.9982  \n",
      "2         -0.8689 -0.45665        0.794375   0.999  \n",
      "3         -0.8109  -0.0375          0.8949  0.9992  \n"
     ]
    },
    {
     "name": "stderr",
     "output_type": "stream",
     "text": [
      "C:\\Users\\70608ebe\\AppData\\Local\\Temp\\ipykernel_9384\\465988059.py:20: FutureWarning: The frame.append method is deprecated and will be removed from pandas in a future version. Use pandas.concat instead.\n",
      "  stats_df = stats_df.append({'Type of Traveller': group_name,\n",
      "C:\\Users\\70608ebe\\AppData\\Local\\Temp\\ipykernel_9384\\465988059.py:20: FutureWarning: The frame.append method is deprecated and will be removed from pandas in a future version. Use pandas.concat instead.\n",
      "  stats_df = stats_df.append({'Type of Traveller': group_name,\n",
      "C:\\Users\\70608ebe\\AppData\\Local\\Temp\\ipykernel_9384\\465988059.py:20: FutureWarning: The frame.append method is deprecated and will be removed from pandas in a future version. Use pandas.concat instead.\n",
      "  stats_df = stats_df.append({'Type of Traveller': group_name,\n",
      "C:\\Users\\70608ebe\\AppData\\Local\\Temp\\ipykernel_9384\\465988059.py:20: FutureWarning: The frame.append method is deprecated and will be removed from pandas in a future version. Use pandas.concat instead.\n",
      "  stats_df = stats_df.append({'Type of Traveller': group_name,\n"
     ]
    }
   ],
   "source": [
    "# Group the dataset by 'type_of_traveller' column\n",
    "grouped = data.groupby('type_of_traveller')\n",
    "\n",
    "# Create an empty DataFrame to store the statistics\n",
    "stats_df = pd.DataFrame(columns=['Type of Traveller', 'Count', 'Average', 'Standard Deviation', 'Minimum', '25th Percentile', 'Median', '75th Percentile', 'Maximum'])\n",
    "\n",
    "# Iterate over each group\n",
    "for group_name, group_df in grouped:\n",
    "    # Calculate the statistics for the compound score\n",
    "    count = group_df['compound_score'].count()\n",
    "    average = group_df['compound_score'].mean()\n",
    "    std_dev = group_df['compound_score'].std()\n",
    "    minimum = group_df['compound_score'].min()\n",
    "    pct25 = np.percentile(group_df['compound_score'], 25)\n",
    "    median = np.percentile(group_df['compound_score'], 50)\n",
    "    pct75 = np.percentile(group_df['compound_score'], 75)\n",
    "    maximum = group_df['compound_score'].max()\n",
    "    \n",
    "    # Add the statistics to the DataFrame\n",
    "    stats_df = stats_df.append({'Type of Traveller': group_name,\n",
    "                                'Count': count,\n",
    "                                'Average': average,\n",
    "                                'Standard Deviation': std_dev,\n",
    "                                'Minimum': minimum,\n",
    "                                '25th Percentile': pct25,\n",
    "                                'Median': median,\n",
    "                                '75th Percentile': pct75,\n",
    "                                'Maximum': maximum}, ignore_index=True)\n",
    "\n",
    "# Print the statistics DataFrame\n",
    "print(stats_df)\n"
   ]
  },
  {
   "cell_type": "code",
   "execution_count": 36,
   "id": "95332a5c",
   "metadata": {},
   "outputs": [
    {
     "data": {
      "image/png": "[encoded data removed]",
      "text/plain": [
       "<Figure size 432x288 with 1 Axes>"
      ]
     },
     "metadata": {
      "needs_background": "light"
     },
     "output_type": "display_data"
    }
   ],
   "source": [
    "# Extract the month and year from the 'date_flown' column\n",
    "data['date_flown'] = pd.to_datetime(data['date_flown'])\n",
    "data['year'] = data['date_flown'].dt.year\n",
    "data['half_year'] = data['date_flown'].dt.quarter.map({1: '-1st Half', 2: '-1st Half', 3: '-2nd Half', 4: '-2nd Half'})\n",
    "\n",
    "# Group the dataset by 'type_of_traveller', 'year', and 'half_year' columns\n",
    "grouped = data.groupby(['type_of_traveller', 'year', 'half_year'])\n",
    "\n",
    "# Calculate the average compound score for each group\n",
    "avg_compound_score = grouped['compound_score'].mean()\n",
    "\n",
    "# Reset the index of the resulting DataFrame\n",
    "avg_compound_score = avg_compound_score.reset_index()\n",
    "\n",
    "# Create a line graph with a separate line for each type of traveler\n",
    "fig, ax = plt.subplots()\n",
    "\n",
    "for traveler_type, group_df in avg_compound_score.groupby('type_of_traveller'):\n",
    "    # Combine year and half-year into a single string for x-axis labels\n",
    "    x_labels = [f\"{int(year)} {half_year}\" for year, half_year in zip(group_df['year'], group_df['half_year'])]\n",
    "    ax.plot(x_labels, group_df['compound_score'], label=traveler_type)\n",
    "\n",
    "# Set the x-axis label\n",
    "ax.set_xlabel('Time Period')\n",
    "\n",
    "# Set the y-axis label\n",
    "ax.set_ylabel('Average Compound Score')\n",
    "\n",
    "# Set the title\n",
    "ax.set_title('Change in Average Compound Score Over Half-Years')\n",
    "\n",
    "# Rotate x-axis labels for better readability\n",
    "plt.xticks(rotation=90)\n",
    "\n",
    "# Add a legend\n",
    "ax.legend()\n",
    "\n",
    "# Display the line graph\n",
    "plt.legend(title='Type of Traveler', bbox_to_anchor=(1.05, 1), loc='upper left')\n",
    "plt.show()\n"
   ]
  },
  {
   "cell_type": "code",
   "execution_count": 37,
   "id": "4b689ba2",
   "metadata": {},
   "outputs": [
    {
     "data": {
      "image/png": "[encoded data removed]",
      "text/plain": [
       "<Figure size 432x288 with 1 Axes>"
      ]
     },
     "metadata": {
      "needs_background": "light"
     },
     "output_type": "display_data"
    },
    {
     "name": "stdout",
     "output_type": "stream",
     "text": [
      "| type_of_traveller   |   year | half_year   |   compound_score |\n",
      "|:--------------------|-------:|:------------|-----------------:|\n",
      "| Business            |   2017 | -1st Half   |      0.185101    |\n",
      "| Business            |   2017 | -2nd Half   |      0.0250805   |\n",
      "| Business            |   2018 | -1st Half   |     -0.0792952   |\n",
      "| Business            |   2018 | -2nd Half   |      0.00595726  |\n",
      "| Business            |   2019 | -1st Half   |     -0.105029    |\n",
      "| Business            |   2019 | -2nd Half   |      0.0276223   |\n",
      "| Business            |   2020 | -1st Half   |     -0.0235325   |\n",
      "| Business            |   2020 | -2nd Half   |     -0.0745667   |\n",
      "| Business            |   2021 | -1st Half   |     -0.250077    |\n",
      "| Business            |   2021 | -2nd Half   |     -0.189047    |\n",
      "| Business            |   2022 | -1st Half   |     -0.240888    |\n",
      "| Business            |   2022 | -2nd Half   |     -0.318304    |\n",
      "| Couple Leisure      |   2017 | -1st Half   |      0.153046    |\n",
      "| Couple Leisure      |   2017 | -2nd Half   |     -0.00850546  |\n",
      "| Couple Leisure      |   2018 | -1st Half   |     -0.047887    |\n",
      "| Couple Leisure      |   2018 | -2nd Half   |     -0.127911    |\n",
      "| Couple Leisure      |   2019 | -1st Half   |      0.000758896 |\n",
      "| Couple Leisure      |   2019 | -2nd Half   |     -0.162455    |\n",
      "| Couple Leisure      |   2020 | -1st Half   |     -0.323811    |\n",
      "| Couple Leisure      |   2020 | -2nd Half   |     -0.203953    |\n",
      "| Couple Leisure      |   2021 | -1st Half   |     -0.0838214   |\n",
      "| Couple Leisure      |   2021 | -2nd Half   |     -0.143709    |\n",
      "| Couple Leisure      |   2022 | -1st Half   |     -0.256646    |\n",
      "| Couple Leisure      |   2022 | -2nd Half   |     -0.208748    |\n",
      "| Family Leisure      |   2017 | -1st Half   |      0.221118    |\n",
      "| Family Leisure      |   2017 | -2nd Half   |      0.038617    |\n",
      "| Family Leisure      |   2018 | -1st Half   |     -0.0841271   |\n",
      "| Family Leisure      |   2018 | -2nd Half   |     -0.125059    |\n",
      "| Family Leisure      |   2019 | -1st Half   |     -0.0569646   |\n",
      "| Family Leisure      |   2019 | -2nd Half   |     -0.189997    |\n",
      "| Family Leisure      |   2020 | -1st Half   |     -0.147679    |\n",
      "| Family Leisure      |   2020 | -2nd Half   |     -0.084144    |\n",
      "| Family Leisure      |   2021 | -1st Half   |     -0.507903    |\n",
      "| Family Leisure      |   2021 | -2nd Half   |     -0.248485    |\n",
      "| Family Leisure      |   2022 | -1st Half   |     -0.37682     |\n",
      "| Family Leisure      |   2022 | -2nd Half   |     -0.355382    |\n",
      "| Solo Leisure        |   2017 | -1st Half   |      0.321311    |\n",
      "| Solo Leisure        |   2017 | -2nd Half   |      0.145341    |\n",
      "| Solo Leisure        |   2018 | -1st Half   |      0.0767973   |\n",
      "| Solo Leisure        |   2018 | -2nd Half   |      0.0462527   |\n",
      "| Solo Leisure        |   2019 | -1st Half   |      0.0552577   |\n",
      "| Solo Leisure        |   2019 | -2nd Half   |     -0.0124533   |\n",
      "| Solo Leisure        |   2020 | -1st Half   |     -0.0357586   |\n",
      "| Solo Leisure        |   2020 | -2nd Half   |     -0.14894     |\n",
      "| Solo Leisure        |   2021 | -1st Half   |     -0.134924    |\n",
      "| Solo Leisure        |   2021 | -2nd Half   |     -0.124956    |\n",
      "| Solo Leisure        |   2022 | -1st Half   |     -0.208504    |\n",
      "| Solo Leisure        |   2022 | -2nd Half   |     -0.279013    |\n"
     ]
    }
   ],
   "source": [
    "from tabulate import tabulate\n",
    "\n",
    "# Extract the month and year from the 'date_flown' column\n",
    "data['date_flown'] = pd.to_datetime(data['date_flown'])\n",
    "data['year'] = data['date_flown'].dt.year\n",
    "data['half_year'] = data['date_flown'].dt.quarter.map({1: '-1st Half', 2: '-1st Half', 3: '-2nd Half', 4: '-2nd Half'})\n",
    "\n",
    "# Group the dataset by 'type_of_traveller', 'year', and 'half_year' columns\n",
    "grouped = data.groupby(['type_of_traveller', 'year', 'half_year'])\n",
    "\n",
    "# Calculate the average compound score for each group\n",
    "avg_compound_score = grouped['compound_score'].mean()\n",
    "\n",
    "# Reset the index of the resulting DataFrame\n",
    "avg_compound_score = avg_compound_score.reset_index()\n",
    "\n",
    "# Create a line graph with a separate line for each type of traveler\n",
    "fig, ax = plt.subplots()\n",
    "\n",
    "for traveler_type, group_df in avg_compound_score.groupby('type_of_traveller'):\n",
    "    # Combine year and half-year into a single string for x-axis labels\n",
    "    x_labels = [f\"{int(year)} {half_year}\" for year, half_year in zip(group_df['year'], group_df['half_year'])]\n",
    "    ax.plot(x_labels, group_df['compound_score'], label=traveler_type)\n",
    "\n",
    "# Set the x-axis label\n",
    "ax.set_xlabel('Time Period')\n",
    "\n",
    "# Set the y-axis label\n",
    "ax.set_ylabel('Average Compound Score')\n",
    "\n",
    "# Set the title\n",
    "ax.set_title('Change in Average Compound Score Over Half-Years')\n",
    "\n",
    "# Rotate x-axis labels for better readability\n",
    "plt.xticks(rotation=90)\n",
    "\n",
    "# Add a legend\n",
    "ax.legend(title='Type of Traveler', bbox_to_anchor=(1.05, 1), loc='upper left')\n",
    "\n",
    "# Display the line graph\n",
    "plt.tight_layout()\n",
    "plt.show()\n",
    "\n",
    "# Convert the data into a table\n",
    "table = tabulate(avg_compound_score, headers='keys', tablefmt='pipe', showindex=False)\n",
    "\n",
    "# Print the table\n",
    "print(table)\n"
   ]
  },
  {
   "cell_type": "code",
   "execution_count": null,
   "id": "2acf4b42",
   "metadata": {},
   "outputs": [],
   "source": []
  }
 ],
 "metadata": {
  "kernelspec": {
   "display_name": "Python 3 (ipykernel)",
   "language": "python",
   "name": "python3"
  },
  "language_info": {
   "codemirror_mode": {
    "name": "ipython",
    "version": 3
   },
   "file_extension": ".py",
   "mimetype": "text/x-python",
   "name": "python",
   "nbconvert_exporter": "python",
   "pygments_lexer": "ipython3",
   "version": "3.9.12"
  }
 },
 "nbformat": 4,
 "nbformat_minor": 5
}
